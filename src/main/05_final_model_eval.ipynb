{
 "cells": [
  {
   "cell_type": "markdown",
   "metadata": {},
   "source": [
    "0) Preparation"
   ]
  },
  {
   "cell_type": "code",
   "execution_count": 1,
   "metadata": {},
   "outputs": [],
   "source": [
    "import numpy as np\n",
    "import matplotlib.pyplot as plt\n",
    "import seaborn as sn\n",
    "import pandas as pd\n",
    "from IPython.core.interactiveshell import InteractiveShell\n",
    "pd.set_option(\"display.precision\", 3)\n",
    "InteractiveShell.ast_node_interactivity = \"all\"\n",
    "import pickle\n",
    "import os\n",
    "\n",
    "# Extra imports\n",
    "from sklearn.metrics import confusion_matrix, f1_score\n",
    "from sklearn.preprocessing import StandardScaler\n",
    "from sklearn.compose import ColumnTransformer\n",
    "from sklearn.preprocessing import StandardScaler\n",
    "from sklearn.model_selection import RepeatedStratifiedKFold\n",
    "\n",
    "def multiclass_confusion(y_pred, y_true):\n",
    "    ### Confusion Matrix\n",
    "    cm = confusion_matrix(y_true, y_pred)\n",
    "\n",
    "    ## Get Class Labels\n",
    "    labels = set(y_true)\n",
    "    class_names = sorted(labels)\n",
    "\n",
    "    # Plot confusion matrix in a beautiful manner\n",
    "    fig = plt.figure(figsize=(16, 14))\n",
    "    ax= plt.subplot()\n",
    "    sn.heatmap(cm, annot=True, ax = ax, fmt = 'g'); #annot=True to annotate cells\n",
    "    # labels, title and ticks\n",
    "    ax.set_xlabel('Predicted', fontsize=20)\n",
    "    ax.xaxis.set_label_position('bottom')\n",
    "    plt.xticks(rotation=90)\n",
    "    ax.xaxis.set_ticklabels(class_names, fontsize = 10)\n",
    "    ax.xaxis.tick_bottom()\n",
    "\n",
    "    ax.set_ylabel('True', fontsize=20)\n",
    "    ax.yaxis.set_ticklabels(class_names, fontsize = 10)\n",
    "    plt.yticks(rotation=0)\n",
    "\n",
    "    plt.title('Refined Confusion Matrix', fontsize=20)\n",
    "    plt.show()"
   ]
  },
  {
   "cell_type": "code",
   "execution_count": 2,
   "metadata": {},
   "outputs": [],
   "source": [
    "def prepare_data(dataframe, variables, model_alignement, num_scaling = True):\n",
    "    x = dataframe.loc[:, dataframe.columns != 'SUSPECT_RACE_DESCRIPTION']\n",
    "    y = dataframe.loc[:, 'SUSPECT_RACE_DESCRIPTION']\n",
    "\n",
    "    X = x.loc[:,variables]\n",
    "    X = pd.get_dummies(X)\n",
    "\n",
    "    alig, X = model_alignement.align(X, join='left', axis=1, fill_value=0)\n",
    "    \n",
    "    numericals = []\n",
    "    for idx, types in enumerate(X.dtypes):\n",
    "        if types == 'int64':\n",
    "            numericals.append(X.columns[idx])\n",
    "    if num_scaling:\n",
    "        ct = ColumnTransformer([\n",
    "                ('somename', StandardScaler(), numericals)\n",
    "            ], remainder='passthrough')\n",
    "\n",
    "        ct.fit_transform(X)\n",
    "    return X, y"
   ]
  },
  {
   "cell_type": "code",
   "execution_count": 3,
   "metadata": {},
   "outputs": [],
   "source": [
    "local_dir = os.getcwd()\n",
    "#data_path = COSTUM_DATA_LOCATION\n",
    "#model_path = COSTUM_MODEL_LOCATION\n",
    "data_path = os.path.join(os.path.dirname(os.path.dirname(local_dir)),'data')\n",
    "model_path = os.path.join(os.path.dirname(local_dir),'models')"
   ]
  },
  {
   "cell_type": "markdown",
   "metadata": {},
   "source": [
    "1) Test set Evaluation"
   ]
  },
  {
   "cell_type": "code",
   "execution_count": 4,
   "metadata": {},
   "outputs": [
    {
     "name": "stdout",
     "output_type": "stream",
     "text": [
      "Confusion matrix of the final test set\n"
     ]
    },
    {
     "data": {
      "image/png": "[encoded data removed]",
      "text/plain": [
       "<Figure size 1152x1008 with 2 Axes>"
      ]
     },
     "metadata": {
      "needs_background": "light"
     },
     "output_type": "display_data"
    },
    {
     "name": "stdout",
     "output_type": "stream",
     "text": [
      "Macro F1-score on final test set : 0.53432471529295\n",
      "The model predicts \"Black\" with 0.8172205438066465 accuracy, \"Other\" with 0.22988505747126434 accuracy and \"White\" with 0.5558685446009389 accuracy\n"
     ]
    }
   ],
   "source": [
    "df = pd.read_csv(os.path.join(data_path,'test_preprocessed.csv'))\n",
    "alignement = pd.read_csv(os.path.join(data_path,'model_alignement.csv'), index_col=0) # Column df only for Model Alignement. No data leakage present from train to test. \n",
    "\n",
    "vars_to_keep = ['SUSPECT_HAIR_COLOR','SUSPECT_EYE_COLOR','STOP_LOCATION_BORO_NAME','SUSPECTED_CRIME_DESCRIPTION','FRISKED_FLAG','SUSPECTS_ACTIONS_CONCEALED_POSSESSION_WEAPON_FLAG','SUSPECT_ARREST_OFFENSE'\t\n",
    ",'BACKROUND_CIRCUMSTANCES_VIOLENT_CRIME_FLAG','FIREARM_FLAG','SUSPECT_BODY_BUILD_TYPE','BACKROUND_CIRCUMSTANCES_SUSPECT_KNOWN_TO_CARRY_WEAPON_FLAG'\t\n",
    ",'OTHER_WEAPON_FLAG','WEAPON_FOUND_FLAG','VERBAL_IDENTIFIES_OFFICER_FLAG','SUSPECTS_ACTIONS_CASING_FLAG','SUPERVISING_OFFICER_RANK','DEMEANOR_CODE','MONTH2'\n",
    ",'OFFICER_IN_UNIFORM_FLAG','SUSPECT_ARRESTED_FLAG','STOP_LOCATION_ZIP_CODE','STOP_WAS_INITIATED','SEARCH_BASIS_HARD_OBJECT_FLAG','SEARCHED_FLAG','SUSPECT_SEX','OTHER_CONTRABAND_FLAG'\t\n",
    ",'SEARCH_BASIS_CONSENT_FLAG','IMMEDIATE_STOP_FLAG','STOP_DURATION_MINUTES','SUSPECT_REPORTED_AGE','SUSPECT_HEIGHT','SUSPECT_WEIGHT'          \n",
    ",'KMEANS_DEMEANOR']\n",
    "\n",
    "X,y = prepare_data(df, vars_to_keep, alignement)\n",
    "\n",
    "final_model = pickle.load(open(os.path.join(model_path,'final_MLP.model'), 'rb'))\n",
    "\n",
    "y_pred = final_model.predict(X)\n",
    "\n",
    "print('Confusion matrix of the final test set')\n",
    "multiclass_confusion(y_pred,y)\n",
    "\n",
    "macro_f1 = f1_score(y, y_pred, average='macro')\n",
    "print('Macro F1-score on final test set : {}'.format(macro_f1))\n",
    "\n",
    "micro_f1 = f1_score(y, y_pred, average=None)\n",
    "print('The model predicts \"Black\" with {} accuracy, \"Other\" with {} accuracy and \"White\" with {} accuracy'.format(micro_f1[0], micro_f1[1],micro_f1[2]))"
   ]
  }
 ],
 "metadata": {
  "interpreter": {
   "hash": "ef9f8fcb891966bacc0decb950cf7bf7a160a7b446e410340c0803fcfb8b20cc"
  },
  "kernelspec": {
   "display_name": "Python 3.9.7 ('BDM')",
   "language": "python",
   "name": "python3"
  },
  "language_info": {
   "codemirror_mode": {
    "name": "ipython",
    "version": 3
   },
   "file_extension": ".py",
   "mimetype": "text/x-python",
   "name": "python",
   "nbconvert_exporter": "python",
   "pygments_lexer": "ipython3",
   "version": "3.9.7"
  },
  "orig_nbformat": 4
 },
 "nbformat": 4,
 "nbformat_minor": 2
}
