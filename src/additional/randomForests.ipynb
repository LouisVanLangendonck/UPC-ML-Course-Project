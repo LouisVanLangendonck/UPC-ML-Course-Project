{
 "cells": [
  {
   "cell_type": "code",
   "execution_count": 29,
   "metadata": {},
   "outputs": [],
   "source": [
    "import numpy as np\n",
    "import matplotlib.pyplot as plt\n",
    "import seaborn as sn\n",
    "import pandas as pd\n",
    "from IPython.core.interactiveshell import InteractiveShell\n",
    "pd.set_option(\"display.precision\", 3)\n",
    "InteractiveShell.ast_node_interactivity = \"all\""
   ]
  },
  {
   "cell_type": "code",
   "execution_count": 30,
   "metadata": {},
   "outputs": [],
   "source": [
    "# Extra imports\n",
    "from pandas import read_csv\n",
    "from sklearn.model_selection import train_test_split\n",
    "from sklearn.tree import DecisionTreeClassifier\n",
    "import graphviz\n",
    "from sklearn.tree import export_graphviz\n",
    "from sklearn.metrics import confusion_matrix,\\\n",
    "        accuracy_score, classification_report, f1_score, ConfusionMatrixDisplay, balanced_accuracy_score\n",
    "from sklearn.ensemble import RandomForestClassifier,VotingClassifier,GradientBoostingClassifier,StackingClassifier,ExtraTreesClassifier\n",
    "#from imblearn.under_sampling import RandomUnderSampler\n",
    "from sklearn.model_selection import GridSearchCV, KFold\n",
    "from sklearn.naive_bayes import GaussianNB\n",
    "from sklearn.metrics import plot_confusion_matrix\n",
    "\n",
    "\n",
    "from time import time\n",
    "from datetime import timedelta\n",
    "\n",
    "import seaborn as sns\n",
    "from matplotlib import pyplot as plt\n",
    "\n",
    "sns.set()\n",
    "from sklearn.compose import ColumnTransformer\n",
    "import warnings\n",
    "warnings.filterwarnings('ignore')"
   ]
  },
  {
   "cell_type": "code",
   "execution_count": null,
   "metadata": {},
   "outputs": [],
   "source": [
    "local_dir = os.getcwd()\n",
    "#data_path = COSTUM_DATA_LOCATION\n",
    "#model_path = COSTUM_MODEL_LOCATION\n",
    "data_path = os.path.join(os.path.dirname(os.path.dirname(local_dir)),'data')\n",
    "model_path = os.path.join(os.path.dirname(local_dir),'models')"
   ]
  },
  {
   "cell_type": "code",
   "execution_count": 33,
   "metadata": {},
   "outputs": [],
   "source": [
    "# Prepare data function used in other scripts \n",
    "\n",
    "def prepare_data(dataframe, variables, num_scaling = True):\n",
    "    x = dataframe.loc[:, dataframe.columns != 'SUSPECT_RACE_DESCRIPTION']\n",
    "    y = dataframe.loc[:, 'SUSPECT_RACE_DESCRIPTION']\n",
    "    X_train, X_test, y_train, y_test =\\\n",
    "        train_test_split(x,y, test_size=0.2, random_state=14, stratify=y)\n",
    "    X_train = X_train.loc[:,variables]\n",
    "    X_test = X_test.loc[:,variables]\n",
    "    X_train = pd.get_dummies(X_train)\n",
    "    X_test = pd.get_dummies(X_test)\n",
    "    X_train, X_test = X_train.align(X_test, join='inner', axis=1, fill_value=0)\n",
    "    numericals = []\n",
    "    for idx, types in enumerate(X_train.dtypes):\n",
    "        if types == 'int64':\n",
    "            numericals.append(X_train.columns[idx])\n",
    "    \n",
    "        \n",
    "        \n",
    "    return X_train, X_test, y_train, y_test\n",
    "\n",
    "\n",
    "df = pd.read_csv(os.path.join(data_path,'train_preprocessed_final_noMCA.csv'), index_col=[0])\n",
    "\n",
    "vars_to_keep =  list(df.columns)\n",
    "vars_to_keep.remove('SUSPECT_RACE_DESCRIPTION')\n",
    "\n",
    "df['KMEANS_DEMEANOR'] = df.KMEANS_DEMEANOR.astype('object')\n",
    "\n",
    "\n",
    "X_train, X_test, y_train, y_test = prepare_data(df, vars_to_keep, num_scaling=True)"
   ]
  },
  {
   "cell_type": "markdown",
   "metadata": {},
   "source": [
    "# Decision Trees"
   ]
  },
  {
   "cell_type": "code",
   "execution_count": 34,
   "metadata": {},
   "outputs": [
    {
     "data": {
      "text/plain": [
       "((6056, 72), (1514, 72))"
      ]
     },
     "execution_count": 34,
     "metadata": {},
     "output_type": "execute_result"
    }
   ],
   "source": [
    "model_tree = DecisionTreeClassifier().fit(X_train, \n",
    "                                          y_train)\n",
    "\n",
    "X_train.shape, X_test.shape"
   ]
  },
  {
   "cell_type": "code",
   "execution_count": 35,
   "metadata": {},
   "outputs": [
    {
     "data": {
      "text/html": [
       "<div>\n",
       "<style scoped>\n",
       "    .dataframe tbody tr th:only-of-type {\n",
       "        vertical-align: middle;\n",
       "    }\n",
       "\n",
       "    .dataframe tbody tr th {\n",
       "        vertical-align: top;\n",
       "    }\n",
       "\n",
       "    .dataframe thead th {\n",
       "        text-align: right;\n",
       "    }\n",
       "</style>\n",
       "<table border=\"1\" class=\"dataframe\">\n",
       "  <thead>\n",
       "    <tr style=\"text-align: right;\">\n",
       "      <th>predicted</th>\n",
       "      <th>BLACK</th>\n",
       "      <th>OTHER</th>\n",
       "      <th>WHITE</th>\n",
       "    </tr>\n",
       "    <tr>\n",
       "      <th>target</th>\n",
       "      <th></th>\n",
       "      <th></th>\n",
       "      <th></th>\n",
       "    </tr>\n",
       "  </thead>\n",
       "  <tbody>\n",
       "    <tr>\n",
       "      <th>BLACK</th>\n",
       "      <td>689</td>\n",
       "      <td>44</td>\n",
       "      <td>255</td>\n",
       "    </tr>\n",
       "    <tr>\n",
       "      <th>OTHER</th>\n",
       "      <td>32</td>\n",
       "      <td>8</td>\n",
       "      <td>22</td>\n",
       "    </tr>\n",
       "    <tr>\n",
       "      <th>WHITE</th>\n",
       "      <td>206</td>\n",
       "      <td>23</td>\n",
       "      <td>235</td>\n",
       "    </tr>\n",
       "  </tbody>\n",
       "</table>\n",
       "</div>"
      ],
      "text/plain": [
       "predicted  BLACK  OTHER  WHITE\n",
       "target                        \n",
       "BLACK        689     44    255\n",
       "OTHER         32      8     22\n",
       "WHITE        206     23    235"
      ]
     },
     "execution_count": 35,
     "metadata": {},
     "output_type": "execute_result"
    }
   ],
   "source": [
    "y_pred = model_tree.predict(X_test)\n",
    "\n",
    "results.loc['DT-default',:] = compute_metrics(y_test, y_pred)\n",
    "\n",
    "confusion(y_test, y_pred)"
   ]
  },
  {
   "cell_type": "code",
   "execution_count": 36,
   "metadata": {},
   "outputs": [
    {
     "data": {
      "text/plain": [
       "[0.6155878467635403,\n",
       " array([0.71958225, 0.11678832, 0.48155738]),\n",
       " 0.43930931454929095,\n",
       " 0.6219489810758707,\n",
       " 0.444288732119509]"
      ]
     },
     "execution_count": 36,
     "metadata": {},
     "output_type": "execute_result"
    }
   ],
   "source": [
    "compute_metrics(y_test, y_pred)"
   ]
  },
  {
   "cell_type": "code",
   "execution_count": 37,
   "metadata": {},
   "outputs": [
    {
     "data": {
      "text/plain": [
       "array([0.71958225, 0.11678832, 0.48155738])"
      ]
     },
     "execution_count": 37,
     "metadata": {},
     "output_type": "execute_result"
    }
   ],
   "source": [
    "f1_score(y_test, y_pred,average=None)"
   ]
  },
  {
   "cell_type": "code",
   "execution_count": 38,
   "metadata": {},
   "outputs": [
    {
     "name": "stdout",
     "output_type": "stream",
     "text": [
      "              precision    recall  f1-score   support\n",
      "\n",
      "       Black       0.74      0.70      0.72       988\n",
      "       Other       0.11      0.13      0.12        62\n",
      "       White       0.46      0.51      0.48       464\n",
      "\n",
      "    accuracy                           0.62      1514\n",
      "   macro avg       0.44      0.44      0.44      1514\n",
      "weighted avg       0.63      0.62      0.62      1514\n",
      "\n"
     ]
    },
    {
     "data": {
      "text/html": [
       "<div>\n",
       "<style scoped>\n",
       "    .dataframe tbody tr th:only-of-type {\n",
       "        vertical-align: middle;\n",
       "    }\n",
       "\n",
       "    .dataframe tbody tr th {\n",
       "        vertical-align: top;\n",
       "    }\n",
       "\n",
       "    .dataframe thead th {\n",
       "        text-align: right;\n",
       "    }\n",
       "</style>\n",
       "<table border=\"1\" class=\"dataframe\">\n",
       "  <thead>\n",
       "    <tr style=\"text-align: right;\">\n",
       "      <th></th>\n",
       "      <th>Accuracy</th>\n",
       "      <th>F1-score class</th>\n",
       "      <th>F1-score (macro avg)</th>\n",
       "      <th>F1-score (weighted avg)</th>\n",
       "      <th>Balanced Accuracy</th>\n",
       "    </tr>\n",
       "  </thead>\n",
       "  <tbody>\n",
       "    <tr>\n",
       "      <th>DT-default</th>\n",
       "      <td>0.616</td>\n",
       "      <td>[0.7195822454308094, 0.11678832116788321, 0.48...</td>\n",
       "      <td>0.439</td>\n",
       "      <td>0.622</td>\n",
       "      <td>0.444</td>\n",
       "    </tr>\n",
       "  </tbody>\n",
       "</table>\n",
       "</div>"
      ],
      "text/plain": [
       "           Accuracy                                     F1-score class  \\\n",
       "DT-default    0.616  [0.7195822454308094, 0.11678832116788321, 0.48...   \n",
       "\n",
       "           F1-score (macro avg) F1-score (weighted avg) Balanced Accuracy  \n",
       "DT-default                0.439                   0.622             0.444  "
      ]
     },
     "execution_count": 38,
     "metadata": {},
     "output_type": "execute_result"
    }
   ],
   "source": [
    "print(classification_report(y_test,\n",
    "                            y_pred,\n",
    "                            target_names=['Black', 'Other', 'White'],))\n",
    "\n",
    "results"
   ]
  },
  {
   "cell_type": "code",
   "execution_count": 39,
   "metadata": {},
   "outputs": [
    {
     "name": "stdout",
     "output_type": "stream",
     "text": [
      "Tree depht: 34\n",
      "Nodes: 3139\n"
     ]
    }
   ],
   "source": [
    "print('Tree depht: {}\\nNodes: {}'.format(model_tree.tree_.max_depth, model_tree.tree_.node_count))"
   ]
  },
  {
   "cell_type": "code",
   "execution_count": 40,
   "metadata": {},
   "outputs": [
    {
     "name": "stdout",
     "output_type": "stream",
     "text": [
      "0:03:01.864024\n"
     ]
    }
   ],
   "source": [
    "criterion = ['gini', 'entropy']\n",
    "\n",
    "max_dephts = [None, 5, 10, 15, 20]\n",
    "min_samples_split = [2, 3, 4, 5]\n",
    "min_samples_leaf = [1, 2, 3, 4, 5]\n",
    "max_features = ['auto', 'sqrt', 'log2', None]\n",
    "\n",
    "from sklearn.model_selection import GridSearchCV\n",
    "from sklearn.metrics import make_scorer\n",
    "\n",
    "init_time = time()\n",
    "model_tree = DecisionTreeClassifier()\n",
    "\n",
    "\n",
    "\n",
    "scoring_dict = {\n",
    "    'f1_mac': 'f1_macro',\n",
    "    'acc': 'balanced_accuracy'\n",
    "}\n",
    "\n",
    "\n",
    "cv = RepeatedStratifiedKFold(n_splits=10, n_repeats=3, random_state=14, shuffle = True)\n",
    "\n",
    "trc = GridSearchCV(estimator=model_tree,\n",
    "                   scoring=scoring_dict,\n",
    "                   param_grid={\n",
    "                       'criterion': criterion,\n",
    "                       'max_depth': max_dephts,\n",
    "                       'min_samples_split': min_samples_split,\n",
    "                       'min_samples_leaf': min_samples_leaf,\n",
    "                       'max_features': max_features\n",
    "                   },\n",
    "                   cv=cv,\n",
    "                   return_train_score=False,\n",
    "                   error_score=\"raise\",\n",
    "                   refit=\"f1_mac\")\n",
    "\n",
    "model_5CV = trc.fit(X_train, y_train)\n",
    "print(timedelta(seconds=(time() - init_time)))"
   ]
  },
  {
   "cell_type": "code",
   "execution_count": 41,
   "metadata": {},
   "outputs": [
    {
     "data": {
      "text/html": [
       "<div>\n",
       "<style scoped>\n",
       "    .dataframe tbody tr th:only-of-type {\n",
       "        vertical-align: middle;\n",
       "    }\n",
       "\n",
       "    .dataframe tbody tr th {\n",
       "        vertical-align: top;\n",
       "    }\n",
       "\n",
       "    .dataframe thead th {\n",
       "        text-align: right;\n",
       "    }\n",
       "</style>\n",
       "<table border=\"1\" class=\"dataframe\">\n",
       "  <thead>\n",
       "    <tr style=\"text-align: right;\">\n",
       "      <th></th>\n",
       "      <th>param_criterion</th>\n",
       "      <th>param_max_depth</th>\n",
       "      <th>param_max_features</th>\n",
       "      <th>param_min_samples_leaf</th>\n",
       "      <th>param_min_samples_split</th>\n",
       "      <th>mean_test_f1_mac</th>\n",
       "      <th>mean_test_acc</th>\n",
       "    </tr>\n",
       "  </thead>\n",
       "  <tbody>\n",
       "    <tr>\n",
       "      <th>268</th>\n",
       "      <td>gini</td>\n",
       "      <td>15</td>\n",
       "      <td>sqrt</td>\n",
       "      <td>3</td>\n",
       "      <td>2</td>\n",
       "      <td>0.442</td>\n",
       "      <td>0.431</td>\n",
       "    </tr>\n",
       "    <tr>\n",
       "      <th>0</th>\n",
       "      <td>gini</td>\n",
       "      <td>None</td>\n",
       "      <td>auto</td>\n",
       "      <td>1</td>\n",
       "      <td>2</td>\n",
       "      <td>0.435</td>\n",
       "      <td>0.436</td>\n",
       "    </tr>\n",
       "    <tr>\n",
       "      <th>700</th>\n",
       "      <td>entropy</td>\n",
       "      <td>15</td>\n",
       "      <td>None</td>\n",
       "      <td>1</td>\n",
       "      <td>2</td>\n",
       "      <td>0.434</td>\n",
       "      <td>0.430</td>\n",
       "    </tr>\n",
       "    <tr>\n",
       "      <th>415</th>\n",
       "      <td>entropy</td>\n",
       "      <td>None</td>\n",
       "      <td>auto</td>\n",
       "      <td>4</td>\n",
       "      <td>5</td>\n",
       "      <td>0.433</td>\n",
       "      <td>0.423</td>\n",
       "    </tr>\n",
       "    <tr>\n",
       "      <th>246</th>\n",
       "      <td>gini</td>\n",
       "      <td>15</td>\n",
       "      <td>auto</td>\n",
       "      <td>2</td>\n",
       "      <td>4</td>\n",
       "      <td>0.433</td>\n",
       "      <td>0.424</td>\n",
       "    </tr>\n",
       "  </tbody>\n",
       "</table>\n",
       "</div>"
      ],
      "text/plain": [
       "    param_criterion param_max_depth param_max_features param_min_samples_leaf  \\\n",
       "268            gini              15               sqrt                      3   \n",
       "0              gini            None               auto                      1   \n",
       "700         entropy              15               None                      1   \n",
       "415         entropy            None               auto                      4   \n",
       "246            gini              15               auto                      2   \n",
       "\n",
       "    param_min_samples_split  mean_test_f1_mac  mean_test_acc  \n",
       "268                       2             0.442          0.431  \n",
       "0                         2             0.435          0.436  \n",
       "700                       2             0.434          0.430  \n",
       "415                       5             0.433          0.423  \n",
       "246                       4             0.433          0.424  "
      ]
     },
     "execution_count": 41,
     "metadata": {},
     "output_type": "execute_result"
    },
    {
     "data": {
      "text/html": [
       "<div>\n",
       "<style scoped>\n",
       "    .dataframe tbody tr th:only-of-type {\n",
       "        vertical-align: middle;\n",
       "    }\n",
       "\n",
       "    .dataframe tbody tr th {\n",
       "        vertical-align: top;\n",
       "    }\n",
       "\n",
       "    .dataframe thead th {\n",
       "        text-align: right;\n",
       "    }\n",
       "</style>\n",
       "<table border=\"1\" class=\"dataframe\">\n",
       "  <thead>\n",
       "    <tr style=\"text-align: right;\">\n",
       "      <th>predicted</th>\n",
       "      <th>BLACK</th>\n",
       "      <th>OTHER</th>\n",
       "      <th>WHITE</th>\n",
       "    </tr>\n",
       "    <tr>\n",
       "      <th>target</th>\n",
       "      <th></th>\n",
       "      <th></th>\n",
       "      <th></th>\n",
       "    </tr>\n",
       "  </thead>\n",
       "  <tbody>\n",
       "    <tr>\n",
       "      <th>BLACK</th>\n",
       "      <td>882</td>\n",
       "      <td>8</td>\n",
       "      <td>98</td>\n",
       "    </tr>\n",
       "    <tr>\n",
       "      <th>OTHER</th>\n",
       "      <td>49</td>\n",
       "      <td>3</td>\n",
       "      <td>10</td>\n",
       "    </tr>\n",
       "    <tr>\n",
       "      <th>WHITE</th>\n",
       "      <td>317</td>\n",
       "      <td>8</td>\n",
       "      <td>139</td>\n",
       "    </tr>\n",
       "  </tbody>\n",
       "</table>\n",
       "</div>"
      ],
      "text/plain": [
       "predicted  BLACK  OTHER  WHITE\n",
       "target                        \n",
       "BLACK        882      8     98\n",
       "OTHER         49      3     10\n",
       "WHITE        317      8    139"
      ]
     },
     "execution_count": 41,
     "metadata": {},
     "output_type": "execute_result"
    },
    {
     "data": {
      "text/html": [
       "<div>\n",
       "<style scoped>\n",
       "    .dataframe tbody tr th:only-of-type {\n",
       "        vertical-align: middle;\n",
       "    }\n",
       "\n",
       "    .dataframe tbody tr th {\n",
       "        vertical-align: top;\n",
       "    }\n",
       "\n",
       "    .dataframe thead th {\n",
       "        text-align: right;\n",
       "    }\n",
       "</style>\n",
       "<table border=\"1\" class=\"dataframe\">\n",
       "  <thead>\n",
       "    <tr style=\"text-align: right;\">\n",
       "      <th></th>\n",
       "      <th>Accuracy</th>\n",
       "      <th>F1-score class</th>\n",
       "      <th>F1-score (macro avg)</th>\n",
       "      <th>F1-score (weighted avg)</th>\n",
       "      <th>Balanced Accuracy</th>\n",
       "    </tr>\n",
       "  </thead>\n",
       "  <tbody>\n",
       "    <tr>\n",
       "      <th>DT-default</th>\n",
       "      <td>0.616</td>\n",
       "      <td>[0.7195822454308094, 0.11678832116788321, 0.48...</td>\n",
       "      <td>0.439</td>\n",
       "      <td>0.622</td>\n",
       "      <td>0.444</td>\n",
       "    </tr>\n",
       "    <tr>\n",
       "      <th>DT-best-MacroF1</th>\n",
       "      <td>0.676</td>\n",
       "      <td>[0.7889087656529516, 0.07407407407407407, 0.39...</td>\n",
       "      <td>0.418</td>\n",
       "      <td>0.638</td>\n",
       "      <td>0.414</td>\n",
       "    </tr>\n",
       "  </tbody>\n",
       "</table>\n",
       "</div>"
      ],
      "text/plain": [
       "                Accuracy                                     F1-score class  \\\n",
       "DT-default         0.616  [0.7195822454308094, 0.11678832116788321, 0.48...   \n",
       "DT-best-MacroF1    0.676  [0.7889087656529516, 0.07407407407407407, 0.39...   \n",
       "\n",
       "                F1-score (macro avg) F1-score (weighted avg) Balanced Accuracy  \n",
       "DT-default                     0.439                   0.622             0.444  \n",
       "DT-best-MacroF1                0.418                   0.638             0.414  "
      ]
     },
     "execution_count": 41,
     "metadata": {},
     "output_type": "execute_result"
    }
   ],
   "source": [
    "scoring_cols = [\n",
    "    'param_criterion', 'param_max_depth', 'param_max_features',\n",
    "    'param_min_samples_leaf', 'param_min_samples_split', 'mean_test_f1_mac', 'mean_test_acc',\n",
    "]\n",
    "\n",
    "pd.DataFrame(model_5CV.cv_results_).sort_values(by='mean_test_f1_mac',\n",
    "                                                 ascending=False)[scoring_cols].head()\n",
    "y_pred = model_5CV.predict(X_test)\n",
    "\n",
    "results.loc['DT-best-MacroF1',:] = compute_metrics(y_test, y_pred)\n",
    "\n",
    "confusion(y_test,y_pred)\n",
    "results.sort_values(by='F1-score (macro avg)', ascending=False)"
   ]
  },
  {
   "cell_type": "code",
   "execution_count": 42,
   "metadata": {},
   "outputs": [
    {
     "data": {
      "text/plain": [
       "array([0.78890877, 0.07407407, 0.39099859])"
      ]
     },
     "execution_count": 42,
     "metadata": {},
     "output_type": "execute_result"
    }
   ],
   "source": [
    "f1_score_per_class = f1_score(y_test, y_pred, average=None)\n",
    "f1_score_per_class"
   ]
  },
  {
   "cell_type": "code",
   "execution_count": 43,
   "metadata": {},
   "outputs": [
    {
     "data": {
      "text/plain": [
       "<sklearn.metrics._plot.confusion_matrix.ConfusionMatrixDisplay at 0x1f76ef3c9d0>"
      ]
     },
     "execution_count": 43,
     "metadata": {},
     "output_type": "execute_result"
    },
    {
     "data": {
      "image/png": "[encoded data removed]",
      "text/plain": [
       "<Figure size 1080x1080 with 2 Axes>"
      ]
     },
     "metadata": {},
     "output_type": "display_data"
    }
   ],
   "source": [
    "#image\n",
    "cm = confusion_matrix(y_test, y_pred, labels=model_5CV.classes_)\n",
    "disp = ConfusionMatrixDisplay(confusion_matrix=cm, display_labels=model_5CV.classes_)\n",
    "fig, ax = plt.subplots(figsize=(15,15))\n",
    "plt.grid(False)\n",
    "disp.plot(ax=ax, cmap=plt.cm.inferno)"
   ]
  },
  {
   "cell_type": "code",
   "execution_count": 44,
   "metadata": {},
   "outputs": [
    {
     "data": {
      "text/plain": [
       "{'criterion': 'gini',\n",
       " 'max_depth': 15,\n",
       " 'max_features': 'sqrt',\n",
       " 'min_samples_leaf': 3,\n",
       " 'min_samples_split': 2}"
      ]
     },
     "execution_count": 44,
     "metadata": {},
     "output_type": "execute_result"
    }
   ],
   "source": [
    "best_params = model_5CV.best_params_\n",
    "best_params"
   ]
  },
  {
   "cell_type": "code",
   "execution_count": 45,
   "metadata": {},
   "outputs": [
    {
     "data": {
      "text/html": [
       "<div>\n",
       "<style scoped>\n",
       "    .dataframe tbody tr th:only-of-type {\n",
       "        vertical-align: middle;\n",
       "    }\n",
       "\n",
       "    .dataframe tbody tr th {\n",
       "        vertical-align: top;\n",
       "    }\n",
       "\n",
       "    .dataframe thead th {\n",
       "        text-align: right;\n",
       "    }\n",
       "</style>\n",
       "<table border=\"1\" class=\"dataframe\">\n",
       "  <thead>\n",
       "    <tr style=\"text-align: right;\">\n",
       "      <th>predicted</th>\n",
       "      <th>BLACK</th>\n",
       "      <th>OTHER</th>\n",
       "      <th>WHITE</th>\n",
       "    </tr>\n",
       "    <tr>\n",
       "      <th>target</th>\n",
       "      <th></th>\n",
       "      <th></th>\n",
       "      <th></th>\n",
       "    </tr>\n",
       "  </thead>\n",
       "  <tbody>\n",
       "    <tr>\n",
       "      <th>BLACK</th>\n",
       "      <td>3758</td>\n",
       "      <td>9</td>\n",
       "      <td>183</td>\n",
       "    </tr>\n",
       "    <tr>\n",
       "      <th>OTHER</th>\n",
       "      <td>177</td>\n",
       "      <td>31</td>\n",
       "      <td>39</td>\n",
       "    </tr>\n",
       "    <tr>\n",
       "      <th>WHITE</th>\n",
       "      <td>1046</td>\n",
       "      <td>13</td>\n",
       "      <td>800</td>\n",
       "    </tr>\n",
       "  </tbody>\n",
       "</table>\n",
       "</div>"
      ],
      "text/plain": [
       "predicted  BLACK  OTHER  WHITE\n",
       "target                        \n",
       "BLACK       3758      9    183\n",
       "OTHER        177     31     39\n",
       "WHITE       1046     13    800"
      ]
     },
     "execution_count": 45,
     "metadata": {},
     "output_type": "execute_result"
    },
    {
     "name": "stdout",
     "output_type": "stream",
     "text": [
      "              precision    recall  f1-score   support\n",
      "\n",
      "       Black       0.75      0.95      0.84      3950\n",
      "       Other       0.58      0.13      0.21       247\n",
      "       White       0.78      0.43      0.56      1859\n",
      "\n",
      "    accuracy                           0.76      6056\n",
      "   macro avg       0.71      0.50      0.53      6056\n",
      "weighted avg       0.76      0.76      0.73      6056\n",
      "\n"
     ]
    }
   ],
   "source": [
    "pred = model_5CV.predict(X_train)\n",
    "\n",
    "confusion(y_train,pred)\n",
    "\n",
    "print(classification_report(y_train,\n",
    "                            pred,\n",
    "                            target_names=['Black', 'Other', 'White'],))"
   ]
  },
  {
   "cell_type": "code",
   "execution_count": 46,
   "metadata": {},
   "outputs": [
    {
     "name": "stdout",
     "output_type": "stream",
     "text": [
      "              precision    recall  f1-score   support\n",
      "\n",
      "       Black       0.71      0.89      0.79       988\n",
      "       White       0.16      0.05      0.07        62\n",
      "       Other       0.56      0.30      0.39       464\n",
      "\n",
      "    accuracy                           0.68      1514\n",
      "   macro avg       0.48      0.41      0.42      1514\n",
      "weighted avg       0.64      0.68      0.64      1514\n",
      "\n"
     ]
    }
   ],
   "source": [
    "print(classification_report(y_test,\n",
    "                            y_pred,\n",
    "                            target_names=['Black', 'White', 'Other'],))"
   ]
  },
  {
   "cell_type": "markdown",
   "metadata": {},
   "source": [
    "# Random Forests"
   ]
  },
  {
   "cell_type": "code",
   "execution_count": 47,
   "metadata": {},
   "outputs": [
    {
     "data": {
      "text/html": [
       "<div>\n",
       "<style scoped>\n",
       "    .dataframe tbody tr th:only-of-type {\n",
       "        vertical-align: middle;\n",
       "    }\n",
       "\n",
       "    .dataframe tbody tr th {\n",
       "        vertical-align: top;\n",
       "    }\n",
       "\n",
       "    .dataframe thead th {\n",
       "        text-align: right;\n",
       "    }\n",
       "</style>\n",
       "<table border=\"1\" class=\"dataframe\">\n",
       "  <thead>\n",
       "    <tr style=\"text-align: right;\">\n",
       "      <th>predicted</th>\n",
       "      <th>BLACK</th>\n",
       "      <th>OTHER</th>\n",
       "      <th>WHITE</th>\n",
       "    </tr>\n",
       "    <tr>\n",
       "      <th>target</th>\n",
       "      <th></th>\n",
       "      <th></th>\n",
       "      <th></th>\n",
       "    </tr>\n",
       "  </thead>\n",
       "  <tbody>\n",
       "    <tr>\n",
       "      <th>BLACK</th>\n",
       "      <td>3950</td>\n",
       "      <td>0</td>\n",
       "      <td>0</td>\n",
       "    </tr>\n",
       "    <tr>\n",
       "      <th>OTHER</th>\n",
       "      <td>0</td>\n",
       "      <td>247</td>\n",
       "      <td>0</td>\n",
       "    </tr>\n",
       "    <tr>\n",
       "      <th>WHITE</th>\n",
       "      <td>1</td>\n",
       "      <td>0</td>\n",
       "      <td>1858</td>\n",
       "    </tr>\n",
       "  </tbody>\n",
       "</table>\n",
       "</div>"
      ],
      "text/plain": [
       "predicted  BLACK  OTHER  WHITE\n",
       "target                        \n",
       "BLACK       3950      0      0\n",
       "OTHER          0    247      0\n",
       "WHITE          1      0   1858"
      ]
     },
     "execution_count": 47,
     "metadata": {},
     "output_type": "execute_result"
    },
    {
     "name": "stdout",
     "output_type": "stream",
     "text": [
      "              precision    recall  f1-score   support\n",
      "\n",
      "       Black       1.00      1.00      1.00      3950\n",
      "       Other       1.00      1.00      1.00       247\n",
      "       White       1.00      1.00      1.00      1859\n",
      "\n",
      "    accuracy                           1.00      6056\n",
      "   macro avg       1.00      1.00      1.00      6056\n",
      "weighted avg       1.00      1.00      1.00      6056\n",
      "\n",
      "OOB accuracy= 0.7161492734478203\n"
     ]
    }
   ],
   "source": [
    "model_rf1 = RandomForestClassifier(oob_score=True).fit(X_train, y_train)\n",
    "\n",
    "pred = model_rf1.predict(X_train)\n",
    "\n",
    "confusion(y_train,pred)\n",
    "\n",
    "print(classification_report(y_train,\n",
    "                            pred,\n",
    "                            target_names=['Black', 'Other', 'White'],))\n",
    "\n",
    "print('OOB accuracy=', model_rf1.oob_score_)"
   ]
  },
  {
   "cell_type": "code",
   "execution_count": 48,
   "metadata": {},
   "outputs": [
    {
     "name": "stdout",
     "output_type": "stream",
     "text": [
      "Validation Accuracy:0.73778071334214\n"
     ]
    },
    {
     "data": {
      "text/html": [
       "<div>\n",
       "<style scoped>\n",
       "    .dataframe tbody tr th:only-of-type {\n",
       "        vertical-align: middle;\n",
       "    }\n",
       "\n",
       "    .dataframe tbody tr th {\n",
       "        vertical-align: top;\n",
       "    }\n",
       "\n",
       "    .dataframe thead th {\n",
       "        text-align: right;\n",
       "    }\n",
       "</style>\n",
       "<table border=\"1\" class=\"dataframe\">\n",
       "  <thead>\n",
       "    <tr style=\"text-align: right;\">\n",
       "      <th>predicted</th>\n",
       "      <th>BLACK</th>\n",
       "      <th>OTHER</th>\n",
       "      <th>WHITE</th>\n",
       "    </tr>\n",
       "    <tr>\n",
       "      <th>target</th>\n",
       "      <th></th>\n",
       "      <th></th>\n",
       "      <th></th>\n",
       "    </tr>\n",
       "  </thead>\n",
       "  <tbody>\n",
       "    <tr>\n",
       "      <th>BLACK</th>\n",
       "      <td>923</td>\n",
       "      <td>1</td>\n",
       "      <td>64</td>\n",
       "    </tr>\n",
       "    <tr>\n",
       "      <th>OTHER</th>\n",
       "      <td>43</td>\n",
       "      <td>3</td>\n",
       "      <td>16</td>\n",
       "    </tr>\n",
       "    <tr>\n",
       "      <th>WHITE</th>\n",
       "      <td>272</td>\n",
       "      <td>1</td>\n",
       "      <td>191</td>\n",
       "    </tr>\n",
       "  </tbody>\n",
       "</table>\n",
       "</div>"
      ],
      "text/plain": [
       "predicted  BLACK  OTHER  WHITE\n",
       "target                        \n",
       "BLACK        923      1     64\n",
       "OTHER         43      3     16\n",
       "WHITE        272      1    191"
      ]
     },
     "execution_count": 48,
     "metadata": {},
     "output_type": "execute_result"
    }
   ],
   "source": [
    "y_pred = model_rf1.predict(X_test)\n",
    "print('Validation Accuracy:{}'.format(model_rf1.score(X_test,y_test)))\n",
    "results.loc['RF-default',:] = compute_metrics(y_test,y_pred)\n",
    "confusion(y_test,y_pred)"
   ]
  },
  {
   "cell_type": "code",
   "execution_count": 49,
   "metadata": {},
   "outputs": [
    {
     "data": {
      "text/plain": [
       "array([0.82929021, 0.08955224, 0.51972789])"
      ]
     },
     "execution_count": 49,
     "metadata": {},
     "output_type": "execute_result"
    }
   ],
   "source": [
    "f1_score_per_class = f1_score(y_test, y_pred, average=None)\n",
    "f1_score_per_class"
   ]
  },
  {
   "cell_type": "code",
   "execution_count": 50,
   "metadata": {},
   "outputs": [
    {
     "data": {
      "text/html": [
       "<div>\n",
       "<style scoped>\n",
       "    .dataframe tbody tr th:only-of-type {\n",
       "        vertical-align: middle;\n",
       "    }\n",
       "\n",
       "    .dataframe tbody tr th {\n",
       "        vertical-align: top;\n",
       "    }\n",
       "\n",
       "    .dataframe thead th {\n",
       "        text-align: right;\n",
       "    }\n",
       "</style>\n",
       "<table border=\"1\" class=\"dataframe\">\n",
       "  <thead>\n",
       "    <tr style=\"text-align: right;\">\n",
       "      <th></th>\n",
       "      <th>Accuracy</th>\n",
       "      <th>F1-score class</th>\n",
       "      <th>F1-score (macro avg)</th>\n",
       "      <th>F1-score (weighted avg)</th>\n",
       "      <th>Balanced Accuracy</th>\n",
       "    </tr>\n",
       "  </thead>\n",
       "  <tbody>\n",
       "    <tr>\n",
       "      <th>RF-default</th>\n",
       "      <td>0.738</td>\n",
       "      <td>[0.8292902066486972, 0.08955223880597016, 0.51...</td>\n",
       "      <td>0.48</td>\n",
       "      <td>0.704</td>\n",
       "      <td>0.465</td>\n",
       "    </tr>\n",
       "    <tr>\n",
       "      <th>DT-default</th>\n",
       "      <td>0.616</td>\n",
       "      <td>[0.7195822454308094, 0.11678832116788321, 0.48...</td>\n",
       "      <td>0.439</td>\n",
       "      <td>0.622</td>\n",
       "      <td>0.444</td>\n",
       "    </tr>\n",
       "    <tr>\n",
       "      <th>DT-best-MacroF1</th>\n",
       "      <td>0.676</td>\n",
       "      <td>[0.7889087656529516, 0.07407407407407407, 0.39...</td>\n",
       "      <td>0.418</td>\n",
       "      <td>0.638</td>\n",
       "      <td>0.414</td>\n",
       "    </tr>\n",
       "  </tbody>\n",
       "</table>\n",
       "</div>"
      ],
      "text/plain": [
       "                Accuracy                                     F1-score class  \\\n",
       "RF-default         0.738  [0.8292902066486972, 0.08955223880597016, 0.51...   \n",
       "DT-default         0.616  [0.7195822454308094, 0.11678832116788321, 0.48...   \n",
       "DT-best-MacroF1    0.676  [0.7889087656529516, 0.07407407407407407, 0.39...   \n",
       "\n",
       "                F1-score (macro avg) F1-score (weighted avg) Balanced Accuracy  \n",
       "RF-default                      0.48                   0.704             0.465  \n",
       "DT-default                     0.439                   0.622             0.444  \n",
       "DT-best-MacroF1                0.418                   0.638             0.414  "
      ]
     },
     "execution_count": 50,
     "metadata": {},
     "output_type": "execute_result"
    }
   ],
   "source": [
    "results.sort_values(by='F1-score (macro avg)', ascending=False)"
   ]
  },
  {
   "cell_type": "code",
   "execution_count": 51,
   "metadata": {},
   "outputs": [
    {
     "data": {
      "text/html": [
       "<div>\n",
       "<style scoped>\n",
       "    .dataframe tbody tr th:only-of-type {\n",
       "        vertical-align: middle;\n",
       "    }\n",
       "\n",
       "    .dataframe tbody tr th {\n",
       "        vertical-align: top;\n",
       "    }\n",
       "\n",
       "    .dataframe thead th {\n",
       "        text-align: right;\n",
       "    }\n",
       "</style>\n",
       "<table border=\"1\" class=\"dataframe\">\n",
       "  <thead>\n",
       "    <tr style=\"text-align: right;\">\n",
       "      <th>predicted</th>\n",
       "      <th>BLACK</th>\n",
       "      <th>OTHER</th>\n",
       "      <th>WHITE</th>\n",
       "    </tr>\n",
       "    <tr>\n",
       "      <th>target</th>\n",
       "      <th></th>\n",
       "      <th></th>\n",
       "      <th></th>\n",
       "    </tr>\n",
       "  </thead>\n",
       "  <tbody>\n",
       "    <tr>\n",
       "      <th>BLACK</th>\n",
       "      <td>663</td>\n",
       "      <td>30</td>\n",
       "      <td>295</td>\n",
       "    </tr>\n",
       "    <tr>\n",
       "      <th>OTHER</th>\n",
       "      <td>44</td>\n",
       "      <td>1</td>\n",
       "      <td>17</td>\n",
       "    </tr>\n",
       "    <tr>\n",
       "      <th>WHITE</th>\n",
       "      <td>310</td>\n",
       "      <td>30</td>\n",
       "      <td>124</td>\n",
       "    </tr>\n",
       "  </tbody>\n",
       "</table>\n",
       "</div>"
      ],
      "text/plain": [
       "predicted  BLACK  OTHER  WHITE\n",
       "target                        \n",
       "BLACK        663     30    295\n",
       "OTHER         44      1     17\n",
       "WHITE        310     30    124"
      ]
     },
     "execution_count": 51,
     "metadata": {},
     "output_type": "execute_result"
    },
    {
     "name": "stdout",
     "output_type": "stream",
     "text": [
      "              precision    recall  f1-score   support\n",
      "\n",
      "       Black       1.00      1.00      1.00      3950\n",
      "       Other       1.00      1.00      1.00       247\n",
      "       White       1.00      1.00      1.00      1859\n",
      "\n",
      "    accuracy                           1.00      6056\n",
      "   macro avg       1.00      1.00      1.00      6056\n",
      "weighted avg       1.00      1.00      1.00      6056\n",
      "\n",
      "OOB accuracy= 0.7131770145310435\n"
     ]
    }
   ],
   "source": [
    "model_rf2 = RandomForestClassifier(n_estimators=100, \n",
    "                                   oob_score=True, \n",
    "                                   class_weight='balanced').fit(X_train, y_train)\n",
    "\n",
    "pred = model_rf2.predict(X_train)\n",
    "\n",
    "confusion(y_test, pred)\n",
    "\n",
    "print(classification_report(y_train,pred,target_names=['Black', 'Other', 'White'],))\n",
    "\n",
    "print('OOB accuracy=', model_rf2.oob_score_)"
   ]
  },
  {
   "cell_type": "code",
   "execution_count": 52,
   "metadata": {},
   "outputs": [
    {
     "data": {
      "text/html": [
       "<div>\n",
       "<style scoped>\n",
       "    .dataframe tbody tr th:only-of-type {\n",
       "        vertical-align: middle;\n",
       "    }\n",
       "\n",
       "    .dataframe tbody tr th {\n",
       "        vertical-align: top;\n",
       "    }\n",
       "\n",
       "    .dataframe thead th {\n",
       "        text-align: right;\n",
       "    }\n",
       "</style>\n",
       "<table border=\"1\" class=\"dataframe\">\n",
       "  <thead>\n",
       "    <tr style=\"text-align: right;\">\n",
       "      <th>predicted</th>\n",
       "      <th>BLACK</th>\n",
       "      <th>OTHER</th>\n",
       "      <th>WHITE</th>\n",
       "    </tr>\n",
       "    <tr>\n",
       "      <th>target</th>\n",
       "      <th></th>\n",
       "      <th></th>\n",
       "      <th></th>\n",
       "    </tr>\n",
       "  </thead>\n",
       "  <tbody>\n",
       "    <tr>\n",
       "      <th>BLACK</th>\n",
       "      <td>925</td>\n",
       "      <td>1</td>\n",
       "      <td>62</td>\n",
       "    </tr>\n",
       "    <tr>\n",
       "      <th>OTHER</th>\n",
       "      <td>45</td>\n",
       "      <td>3</td>\n",
       "      <td>14</td>\n",
       "    </tr>\n",
       "    <tr>\n",
       "      <th>WHITE</th>\n",
       "      <td>283</td>\n",
       "      <td>1</td>\n",
       "      <td>180</td>\n",
       "    </tr>\n",
       "  </tbody>\n",
       "</table>\n",
       "</div>"
      ],
      "text/plain": [
       "predicted  BLACK  OTHER  WHITE\n",
       "target                        \n",
       "BLACK        925      1     62\n",
       "OTHER         45      3     14\n",
       "WHITE        283      1    180"
      ]
     },
     "execution_count": 52,
     "metadata": {},
     "output_type": "execute_result"
    }
   ],
   "source": [
    "y_pred = model_rf2.predict(X_test)\n",
    "\n",
    "results.loc['RF-balance',:] = compute_metrics(y_test,y_pred)\n",
    "\n",
    "confusion(y_test,y_pred)"
   ]
  },
  {
   "cell_type": "code",
   "execution_count": 53,
   "metadata": {},
   "outputs": [
    {
     "data": {
      "text/html": [
       "<div>\n",
       "<style scoped>\n",
       "    .dataframe tbody tr th:only-of-type {\n",
       "        vertical-align: middle;\n",
       "    }\n",
       "\n",
       "    .dataframe tbody tr th {\n",
       "        vertical-align: top;\n",
       "    }\n",
       "\n",
       "    .dataframe thead th {\n",
       "        text-align: right;\n",
       "    }\n",
       "</style>\n",
       "<table border=\"1\" class=\"dataframe\">\n",
       "  <thead>\n",
       "    <tr style=\"text-align: right;\">\n",
       "      <th></th>\n",
       "      <th>Accuracy</th>\n",
       "      <th>F1-score class</th>\n",
       "      <th>F1-score (macro avg)</th>\n",
       "      <th>F1-score (weighted avg)</th>\n",
       "      <th>Balanced Accuracy</th>\n",
       "    </tr>\n",
       "  </thead>\n",
       "  <tbody>\n",
       "    <tr>\n",
       "      <th>RF-default</th>\n",
       "      <td>0.738</td>\n",
       "      <td>[0.8292902066486972, 0.08955223880597016, 0.51...</td>\n",
       "      <td>0.48</td>\n",
       "      <td>0.704</td>\n",
       "      <td>0.465</td>\n",
       "    </tr>\n",
       "    <tr>\n",
       "      <th>RF-balance</th>\n",
       "      <td>0.732</td>\n",
       "      <td>[0.8255243195002231, 0.08955223880597016, 0.5]</td>\n",
       "      <td>0.472</td>\n",
       "      <td>0.696</td>\n",
       "      <td>0.458</td>\n",
       "    </tr>\n",
       "    <tr>\n",
       "      <th>DT-default</th>\n",
       "      <td>0.616</td>\n",
       "      <td>[0.7195822454308094, 0.11678832116788321, 0.48...</td>\n",
       "      <td>0.439</td>\n",
       "      <td>0.622</td>\n",
       "      <td>0.444</td>\n",
       "    </tr>\n",
       "    <tr>\n",
       "      <th>DT-best-MacroF1</th>\n",
       "      <td>0.676</td>\n",
       "      <td>[0.7889087656529516, 0.07407407407407407, 0.39...</td>\n",
       "      <td>0.418</td>\n",
       "      <td>0.638</td>\n",
       "      <td>0.414</td>\n",
       "    </tr>\n",
       "  </tbody>\n",
       "</table>\n",
       "</div>"
      ],
      "text/plain": [
       "                Accuracy                                     F1-score class  \\\n",
       "RF-default         0.738  [0.8292902066486972, 0.08955223880597016, 0.51...   \n",
       "RF-balance         0.732     [0.8255243195002231, 0.08955223880597016, 0.5]   \n",
       "DT-default         0.616  [0.7195822454308094, 0.11678832116788321, 0.48...   \n",
       "DT-best-MacroF1    0.676  [0.7889087656529516, 0.07407407407407407, 0.39...   \n",
       "\n",
       "                F1-score (macro avg) F1-score (weighted avg) Balanced Accuracy  \n",
       "RF-default                      0.48                   0.704             0.465  \n",
       "RF-balance                     0.472                   0.696             0.458  \n",
       "DT-default                     0.439                   0.622             0.444  \n",
       "DT-best-MacroF1                0.418                   0.638             0.414  "
      ]
     },
     "execution_count": 53,
     "metadata": {},
     "output_type": "execute_result"
    }
   ],
   "source": [
    "results.sort_values(by='F1-score (macro avg)', ascending=False)"
   ]
  },
  {
   "cell_type": "code",
   "execution_count": 91,
   "metadata": {},
   "outputs": [
    {
     "name": "stdout",
     "output_type": "stream",
     "text": [
      "Fitting 2 folds for each of 486 candidates, totalling 972 fits\n",
      "0:23:34.277354\n"
     ]
    }
   ],
   "source": [
    "\n",
    "init_time = time()\n",
    "from sklearn.model_selection import RepeatedStratifiedKFold\n",
    "\n",
    "rf_model = RandomForestClassifier()\n",
    "\n",
    "\n",
    "# Number of trees in random forest\n",
    "n_estimators = [200,400,600]\n",
    "# Number of features to consider at every split\n",
    "max_features = ['auto', 'sqrt']\n",
    "# Maximum number of levels in tree\n",
    "max_depth = [20,40]\n",
    "max_depth.append(None)\n",
    "# Minimum number of samples required to split a node\n",
    "min_samples_split = [2, 5, 10]\n",
    "# Minimum number of samples required at each leaf node\n",
    "min_samples_leaf = [1, 2, 4]\n",
    "# Method of selecting samples for training each tree\n",
    "bootstrap = [True, False]\n",
    "balance = [None, 'balanced', 'balanced_subsample']\n",
    "\n",
    "\n",
    "cv = RepeatedStratifiedKFold(n_splits=5, n_repeats=3, random_state=14)\n",
    "\n",
    "trc = GridSearchCV(estimator=rf_model,\n",
    "                   scoring=scoring_dict,\n",
    "                   param_grid={\n",
    "                       'n_estimators': n_estimators,\n",
    "                       'max_depth': max_depth,\n",
    "                       'min_samples_split':min_samples_split,\n",
    "                       'min_samples_leaf':min_samples_leaf, \n",
    "                       'class_weight':balance,\n",
    "                       'bootstrap': bootstrap\n",
    "\n",
    "                   },\n",
    "                   cv=cv,\n",
    "                   return_train_score=False,\n",
    "                   refit=False,\n",
    "                   n_jobs=-1, verbose=10)\n",
    "\n",
    "best_rf = model_5CV = trc.fit(X_train, y_train)\n",
    "\n",
    "\n",
    "print(timedelta(seconds=(time() - init_time)))"
   ]
  },
  {
   "cell_type": "code",
   "execution_count": 92,
   "metadata": {},
   "outputs": [
    {
     "data": {
      "text/html": [
       "<div>\n",
       "<style scoped>\n",
       "    .dataframe tbody tr th:only-of-type {\n",
       "        vertical-align: middle;\n",
       "    }\n",
       "\n",
       "    .dataframe tbody tr th {\n",
       "        vertical-align: top;\n",
       "    }\n",
       "\n",
       "    .dataframe thead th {\n",
       "        text-align: right;\n",
       "    }\n",
       "</style>\n",
       "<table border=\"1\" class=\"dataframe\">\n",
       "  <thead>\n",
       "    <tr style=\"text-align: right;\">\n",
       "      <th></th>\n",
       "      <th>param_n_estimators</th>\n",
       "      <th>param_max_depth</th>\n",
       "      <th>param_min_samples_leaf</th>\n",
       "      <th>param_min_samples_split</th>\n",
       "      <th>param_class_weight</th>\n",
       "      <th>param_bootstrap</th>\n",
       "      <th>mean_test_f1_mac</th>\n",
       "    </tr>\n",
       "  </thead>\n",
       "  <tbody>\n",
       "    <tr>\n",
       "      <th>423</th>\n",
       "      <td>200</td>\n",
       "      <td>20</td>\n",
       "      <td>4</td>\n",
       "      <td>2</td>\n",
       "      <td>balanced_subsample</td>\n",
       "      <td>False</td>\n",
       "      <td>0.502</td>\n",
       "    </tr>\n",
       "    <tr>\n",
       "      <th>340</th>\n",
       "      <td>400</td>\n",
       "      <td>20</td>\n",
       "      <td>2</td>\n",
       "      <td>10</td>\n",
       "      <td>balanced</td>\n",
       "      <td>False</td>\n",
       "      <td>0.500</td>\n",
       "    </tr>\n",
       "    <tr>\n",
       "      <th>481</th>\n",
       "      <td>400</td>\n",
       "      <td>None</td>\n",
       "      <td>4</td>\n",
       "      <td>5</td>\n",
       "      <td>balanced_subsample</td>\n",
       "      <td>False</td>\n",
       "      <td>0.499</td>\n",
       "    </tr>\n",
       "    <tr>\n",
       "      <th>424</th>\n",
       "      <td>400</td>\n",
       "      <td>20</td>\n",
       "      <td>4</td>\n",
       "      <td>2</td>\n",
       "      <td>balanced_subsample</td>\n",
       "      <td>False</td>\n",
       "      <td>0.498</td>\n",
       "    </tr>\n",
       "    <tr>\n",
       "      <th>369</th>\n",
       "      <td>200</td>\n",
       "      <td>40</td>\n",
       "      <td>4</td>\n",
       "      <td>2</td>\n",
       "      <td>balanced</td>\n",
       "      <td>False</td>\n",
       "      <td>0.498</td>\n",
       "    </tr>\n",
       "  </tbody>\n",
       "</table>\n",
       "</div>"
      ],
      "text/plain": [
       "    param_n_estimators param_max_depth param_min_samples_leaf  \\\n",
       "423                200              20                      4   \n",
       "340                400              20                      2   \n",
       "481                400            None                      4   \n",
       "424                400              20                      4   \n",
       "369                200              40                      4   \n",
       "\n",
       "    param_min_samples_split  param_class_weight param_bootstrap  \\\n",
       "423                       2  balanced_subsample           False   \n",
       "340                      10            balanced           False   \n",
       "481                       5  balanced_subsample           False   \n",
       "424                       2  balanced_subsample           False   \n",
       "369                       2            balanced           False   \n",
       "\n",
       "     mean_test_f1_mac  \n",
       "423             0.502  \n",
       "340             0.500  \n",
       "481             0.499  \n",
       "424             0.498  \n",
       "369             0.498  "
      ]
     },
     "execution_count": 92,
     "metadata": {},
     "output_type": "execute_result"
    }
   ],
   "source": [
    "scoring_cols = [\n",
    "    'param_n_estimators', 'param_max_depth', 'param_min_samples_leaf', 'param_min_samples_split', 'param_class_weight', 'param_bootstrap'\n",
    "    ,'mean_test_f1_mac'] \n",
    "pd.DataFrame(best_rf.cv_results_).sort_values(\n",
    "    by='mean_test_f1_mac', ascending=False)[scoring_cols].head()"
   ]
  },
  {
   "cell_type": "code",
   "execution_count": 93,
   "metadata": {},
   "outputs": [
    {
     "data": {
      "text/plain": [
       "{'bootstrap': False,\n",
       " 'class_weight': 'balanced_subsample',\n",
       " 'max_depth': 20,\n",
       " 'min_samples_leaf': 4,\n",
       " 'min_samples_split': 2,\n",
       " 'n_estimators': 200}"
      ]
     },
     "execution_count": 93,
     "metadata": {},
     "output_type": "execute_result"
    }
   ],
   "source": [
    "best_params = pd.DataFrame(best_rf.cv_results_).sort_values(by='mean_test_f1_mac',ascending=False)[['params']].iloc[0,0]\n",
    "best_params"
   ]
  },
  {
   "cell_type": "code",
   "execution_count": 94,
   "metadata": {},
   "outputs": [
    {
     "data": {
      "text/html": [
       "<style>#sk-container-id-6 {color: black;background-color: white;}#sk-container-id-6 pre{padding: 0;}#sk-container-id-6 div.sk-toggleable {background-color: white;}#sk-container-id-6 label.sk-toggleable__label {cursor: pointer;display: block;width: 100%;margin-bottom: 0;padding: 0.3em;box-sizing: border-box;text-align: center;}#sk-container-id-6 label.sk-toggleable__label-arrow:before {content: \"▸\";float: left;margin-right: 0.25em;color: #696969;}#sk-container-id-6 label.sk-toggleable__label-arrow:hover:before {color: black;}#sk-container-id-6 div.sk-estimator:hover label.sk-toggleable__label-arrow:before {color: black;}#sk-container-id-6 div.sk-toggleable__content {max-height: 0;max-width: 0;overflow: hidden;text-align: left;background-color: #f0f8ff;}#sk-container-id-6 div.sk-toggleable__content pre {margin: 0.2em;color: black;border-radius: 0.25em;background-color: #f0f8ff;}#sk-container-id-6 input.sk-toggleable__control:checked~div.sk-toggleable__content {max-height: 200px;max-width: 100%;overflow: auto;}#sk-container-id-6 input.sk-toggleable__control:checked~label.sk-toggleable__label-arrow:before {content: \"▾\";}#sk-container-id-6 div.sk-estimator input.sk-toggleable__control:checked~label.sk-toggleable__label {background-color: #d4ebff;}#sk-container-id-6 div.sk-label input.sk-toggleable__control:checked~label.sk-toggleable__label {background-color: #d4ebff;}#sk-container-id-6 input.sk-hidden--visually {border: 0;clip: rect(1px 1px 1px 1px);clip: rect(1px, 1px, 1px, 1px);height: 1px;margin: -1px;overflow: hidden;padding: 0;position: absolute;width: 1px;}#sk-container-id-6 div.sk-estimator {font-family: monospace;background-color: #f0f8ff;border: 1px dotted black;border-radius: 0.25em;box-sizing: border-box;margin-bottom: 0.5em;}#sk-container-id-6 div.sk-estimator:hover {background-color: #d4ebff;}#sk-container-id-6 div.sk-parallel-item::after {content: \"\";width: 100%;border-bottom: 1px solid gray;flex-grow: 1;}#sk-container-id-6 div.sk-label:hover label.sk-toggleable__label {background-color: #d4ebff;}#sk-container-id-6 div.sk-serial::before {content: \"\";position: absolute;border-left: 1px solid gray;box-sizing: border-box;top: 0;bottom: 0;left: 50%;z-index: 0;}#sk-container-id-6 div.sk-serial {display: flex;flex-direction: column;align-items: center;background-color: white;padding-right: 0.2em;padding-left: 0.2em;position: relative;}#sk-container-id-6 div.sk-item {position: relative;z-index: 1;}#sk-container-id-6 div.sk-parallel {display: flex;align-items: stretch;justify-content: center;background-color: white;position: relative;}#sk-container-id-6 div.sk-item::before, #sk-container-id-6 div.sk-parallel-item::before {content: \"\";position: absolute;border-left: 1px solid gray;box-sizing: border-box;top: 0;bottom: 0;left: 50%;z-index: -1;}#sk-container-id-6 div.sk-parallel-item {display: flex;flex-direction: column;z-index: 1;position: relative;background-color: white;}#sk-container-id-6 div.sk-parallel-item:first-child::after {align-self: flex-end;width: 50%;}#sk-container-id-6 div.sk-parallel-item:last-child::after {align-self: flex-start;width: 50%;}#sk-container-id-6 div.sk-parallel-item:only-child::after {width: 0;}#sk-container-id-6 div.sk-dashed-wrapped {border: 1px dashed gray;margin: 0 0.4em 0.5em 0.4em;box-sizing: border-box;padding-bottom: 0.4em;background-color: white;}#sk-container-id-6 div.sk-label label {font-family: monospace;font-weight: bold;display: inline-block;line-height: 1.2em;}#sk-container-id-6 div.sk-label-container {text-align: center;}#sk-container-id-6 div.sk-container {/* jupyter's `normalize.less` sets `[hidden] { display: none; }` but bootstrap.min.css set `[hidden] { display: none !important; }` so we also need the `!important` here to be able to override the default hidden behavior on the sphinx rendered scikit-learn.org. See: https://github.com/scikit-learn/scikit-learn/issues/21755 */display: inline-block !important;position: relative;}#sk-container-id-6 div.sk-text-repr-fallback {display: none;}</style><div id=\"sk-container-id-6\" class=\"sk-top-container\"><div class=\"sk-text-repr-fallback\"><pre>RandomForestClassifier(bootstrap=False, class_weight=&#x27;balanced_subsample&#x27;,\n",
       "                       max_depth=20, min_samples_leaf=4, n_estimators=200)</pre><b>In a Jupyter environment, please rerun this cell to show the HTML representation or trust the notebook. <br />On GitHub, the HTML representation is unable to render, please try loading this page with nbviewer.org.</b></div><div class=\"sk-container\" hidden><div class=\"sk-item\"><div class=\"sk-estimator sk-toggleable\"><input class=\"sk-toggleable__control sk-hidden--visually\" id=\"sk-estimator-id-6\" type=\"checkbox\" checked><label for=\"sk-estimator-id-6\" class=\"sk-toggleable__label sk-toggleable__label-arrow\">RandomForestClassifier</label><div class=\"sk-toggleable__content\"><pre>RandomForestClassifier(bootstrap=False, class_weight=&#x27;balanced_subsample&#x27;,\n",
       "                       max_depth=20, min_samples_leaf=4, n_estimators=200)</pre></div></div></div></div></div>"
      ],
      "text/plain": [
       "RandomForestClassifier(bootstrap=False, class_weight='balanced_subsample',\n",
       "                       max_depth=20, min_samples_leaf=4, n_estimators=200)"
      ]
     },
     "execution_count": 94,
     "metadata": {},
     "output_type": "execute_result"
    },
    {
     "data": {
      "text/html": [
       "<div>\n",
       "<style scoped>\n",
       "    .dataframe tbody tr th:only-of-type {\n",
       "        vertical-align: middle;\n",
       "    }\n",
       "\n",
       "    .dataframe tbody tr th {\n",
       "        vertical-align: top;\n",
       "    }\n",
       "\n",
       "    .dataframe thead th {\n",
       "        text-align: right;\n",
       "    }\n",
       "</style>\n",
       "<table border=\"1\" class=\"dataframe\">\n",
       "  <thead>\n",
       "    <tr style=\"text-align: right;\">\n",
       "      <th></th>\n",
       "      <th>Accuracy</th>\n",
       "      <th>F1-score class</th>\n",
       "      <th>F1-score (macro avg)</th>\n",
       "      <th>F1-score (weighted avg)</th>\n",
       "      <th>Balanced Accuracy</th>\n",
       "    </tr>\n",
       "  </thead>\n",
       "  <tbody>\n",
       "    <tr>\n",
       "      <th>RF-best</th>\n",
       "      <td>0.696</td>\n",
       "      <td>[0.7875185735512631, 0.18518518518518517, 0.55...</td>\n",
       "      <td>0.508</td>\n",
       "      <td>0.69</td>\n",
       "      <td>0.5</td>\n",
       "    </tr>\n",
       "    <tr>\n",
       "      <th>extra_trees-best</th>\n",
       "      <td>0.701</td>\n",
       "      <td>[0.7951807228915663, 0.18947368421052632, 0.52...</td>\n",
       "      <td>0.505</td>\n",
       "      <td>0.689</td>\n",
       "      <td>0.49</td>\n",
       "    </tr>\n",
       "    <tr>\n",
       "      <th>RF-default</th>\n",
       "      <td>0.738</td>\n",
       "      <td>[0.8292902066486972, 0.08955223880597016, 0.51...</td>\n",
       "      <td>0.48</td>\n",
       "      <td>0.704</td>\n",
       "      <td>0.465</td>\n",
       "    </tr>\n",
       "    <tr>\n",
       "      <th>extra_trees</th>\n",
       "      <td>0.715</td>\n",
       "      <td>[0.8111111111111112, 0.1111111111111111, 0.510...</td>\n",
       "      <td>0.477</td>\n",
       "      <td>0.69</td>\n",
       "      <td>0.463</td>\n",
       "    </tr>\n",
       "    <tr>\n",
       "      <th>RF-balance</th>\n",
       "      <td>0.732</td>\n",
       "      <td>[0.8255243195002231, 0.08955223880597016, 0.5]</td>\n",
       "      <td>0.472</td>\n",
       "      <td>0.696</td>\n",
       "      <td>0.458</td>\n",
       "    </tr>\n",
       "    <tr>\n",
       "      <th>DT-default</th>\n",
       "      <td>0.616</td>\n",
       "      <td>[0.7195822454308094, 0.11678832116788321, 0.48...</td>\n",
       "      <td>0.439</td>\n",
       "      <td>0.622</td>\n",
       "      <td>0.444</td>\n",
       "    </tr>\n",
       "    <tr>\n",
       "      <th>DT-best-MacroF1</th>\n",
       "      <td>0.676</td>\n",
       "      <td>[0.7889087656529516, 0.07407407407407407, 0.39...</td>\n",
       "      <td>0.418</td>\n",
       "      <td>0.638</td>\n",
       "      <td>0.414</td>\n",
       "    </tr>\n",
       "  </tbody>\n",
       "</table>\n",
       "</div>"
      ],
      "text/plain": [
       "                 Accuracy                                     F1-score class  \\\n",
       "RF-best             0.696  [0.7875185735512631, 0.18518518518518517, 0.55...   \n",
       "extra_trees-best    0.701  [0.7951807228915663, 0.18947368421052632, 0.52...   \n",
       "RF-default          0.738  [0.8292902066486972, 0.08955223880597016, 0.51...   \n",
       "extra_trees         0.715  [0.8111111111111112, 0.1111111111111111, 0.510...   \n",
       "RF-balance          0.732     [0.8255243195002231, 0.08955223880597016, 0.5]   \n",
       "DT-default          0.616  [0.7195822454308094, 0.11678832116788321, 0.48...   \n",
       "DT-best-MacroF1     0.676  [0.7889087656529516, 0.07407407407407407, 0.39...   \n",
       "\n",
       "                 F1-score (macro avg) F1-score (weighted avg)  \\\n",
       "RF-best                         0.508                    0.69   \n",
       "extra_trees-best                0.505                   0.689   \n",
       "RF-default                       0.48                   0.704   \n",
       "extra_trees                     0.477                    0.69   \n",
       "RF-balance                      0.472                   0.696   \n",
       "DT-default                      0.439                   0.622   \n",
       "DT-best-MacroF1                 0.418                   0.638   \n",
       "\n",
       "                 Balanced Accuracy  \n",
       "RF-best                        0.5  \n",
       "extra_trees-best              0.49  \n",
       "RF-default                   0.465  \n",
       "extra_trees                  0.463  \n",
       "RF-balance                   0.458  \n",
       "DT-default                   0.444  \n",
       "DT-best-MacroF1              0.414  "
      ]
     },
     "execution_count": 94,
     "metadata": {},
     "output_type": "execute_result"
    }
   ],
   "source": [
    "best_rf_tuned = RandomForestClassifier(**best_params)\n",
    "best_rf_tuned.fit(X_train, y_train)\n",
    "\n",
    "y_pred = best_rf_tuned.predict(X_test)\n",
    "\n",
    "results.loc['RF-best', :] = compute_metrics(y_test, y_pred)\n",
    "\n",
    "results.sort_values(by='F1-score (macro avg)', ascending=False)"
   ]
  },
  {
   "cell_type": "code",
   "execution_count": 95,
   "metadata": {},
   "outputs": [
    {
     "data": {
      "text/html": [
       "<div>\n",
       "<style scoped>\n",
       "    .dataframe tbody tr th:only-of-type {\n",
       "        vertical-align: middle;\n",
       "    }\n",
       "\n",
       "    .dataframe tbody tr th {\n",
       "        vertical-align: top;\n",
       "    }\n",
       "\n",
       "    .dataframe thead th {\n",
       "        text-align: right;\n",
       "    }\n",
       "</style>\n",
       "<table border=\"1\" class=\"dataframe\">\n",
       "  <thead>\n",
       "    <tr style=\"text-align: right;\">\n",
       "      <th>predicted</th>\n",
       "      <th>BLACK</th>\n",
       "      <th>OTHER</th>\n",
       "      <th>WHITE</th>\n",
       "    </tr>\n",
       "    <tr>\n",
       "      <th>target</th>\n",
       "      <th></th>\n",
       "      <th></th>\n",
       "      <th></th>\n",
       "    </tr>\n",
       "  </thead>\n",
       "  <tbody>\n",
       "    <tr>\n",
       "      <th>BLACK</th>\n",
       "      <td>795</td>\n",
       "      <td>26</td>\n",
       "      <td>167</td>\n",
       "    </tr>\n",
       "    <tr>\n",
       "      <th>OTHER</th>\n",
       "      <td>30</td>\n",
       "      <td>10</td>\n",
       "      <td>22</td>\n",
       "    </tr>\n",
       "    <tr>\n",
       "      <th>WHITE</th>\n",
       "      <td>206</td>\n",
       "      <td>10</td>\n",
       "      <td>248</td>\n",
       "    </tr>\n",
       "  </tbody>\n",
       "</table>\n",
       "</div>"
      ],
      "text/plain": [
       "predicted  BLACK  OTHER  WHITE\n",
       "target                        \n",
       "BLACK        795     26    167\n",
       "OTHER         30     10     22\n",
       "WHITE        206     10    248"
      ]
     },
     "execution_count": 95,
     "metadata": {},
     "output_type": "execute_result"
    }
   ],
   "source": [
    "confusion(y_test, y_pred)"
   ]
  },
  {
   "cell_type": "code",
   "execution_count": 96,
   "metadata": {},
   "outputs": [
    {
     "data": {
      "text/plain": [
       "<sklearn.metrics._plot.confusion_matrix.ConfusionMatrixDisplay at 0x1f76ff763d0>"
      ]
     },
     "execution_count": 96,
     "metadata": {},
     "output_type": "execute_result"
    },
    {
     "data": {
      "image/png": "[encoded data removed]",
      "text/plain": [
       "<Figure size 1080x1080 with 2 Axes>"
      ]
     },
     "metadata": {},
     "output_type": "display_data"
    }
   ],
   "source": [
    "#image\n",
    "cm = confusion_matrix(y_test, y_pred, labels=best_rf_tuned.classes_)\n",
    "disp = ConfusionMatrixDisplay(confusion_matrix=cm, display_labels=best_rf_tuned.classes_)\n",
    "fig, ax = plt.subplots(figsize=(15,15))\n",
    "plt.grid(False)\n",
    "disp.plot(ax=ax, cmap=plt.cm.inferno)"
   ]
  },
  {
   "cell_type": "code",
   "execution_count": 98,
   "metadata": {},
   "outputs": [
    {
     "data": {
      "text/plain": [
       "<sklearn.metrics._plot.confusion_matrix.ConfusionMatrixDisplay at 0x1f777a76430>"
      ]
     },
     "execution_count": 98,
     "metadata": {},
     "output_type": "execute_result"
    },
    {
     "data": {
      "image/png": "[encoded data removed]",
      "text/plain": [
       "<Figure size 1080x1080 with 2 Axes>"
      ]
     },
     "metadata": {},
     "output_type": "display_data"
    }
   ],
   "source": [
    "#confusion matrix train set\n",
    "y_pred = best_rf_tuned.predict(X_train)\n",
    "\n",
    "cm = confusion_matrix(y_train, y_pred, labels=best_rf_tuned.classes_)\n",
    "disp = ConfusionMatrixDisplay(confusion_matrix=cm, display_labels=best_rf_tuned.classes_)\n",
    "fig, ax = plt.subplots(figsize=(15,15))\n",
    "plt.grid(False)\n",
    "disp.plot(ax=ax, cmap=plt.cm.inferno)"
   ]
  },
  {
   "cell_type": "markdown",
   "metadata": {},
   "source": [
    "# Extra Trees"
   ]
  },
  {
   "cell_type": "code",
   "execution_count": 99,
   "metadata": {},
   "outputs": [
    {
     "data": {
      "text/html": [
       "<style>#sk-container-id-7 {color: black;background-color: white;}#sk-container-id-7 pre{padding: 0;}#sk-container-id-7 div.sk-toggleable {background-color: white;}#sk-container-id-7 label.sk-toggleable__label {cursor: pointer;display: block;width: 100%;margin-bottom: 0;padding: 0.3em;box-sizing: border-box;text-align: center;}#sk-container-id-7 label.sk-toggleable__label-arrow:before {content: \"▸\";float: left;margin-right: 0.25em;color: #696969;}#sk-container-id-7 label.sk-toggleable__label-arrow:hover:before {color: black;}#sk-container-id-7 div.sk-estimator:hover label.sk-toggleable__label-arrow:before {color: black;}#sk-container-id-7 div.sk-toggleable__content {max-height: 0;max-width: 0;overflow: hidden;text-align: left;background-color: #f0f8ff;}#sk-container-id-7 div.sk-toggleable__content pre {margin: 0.2em;color: black;border-radius: 0.25em;background-color: #f0f8ff;}#sk-container-id-7 input.sk-toggleable__control:checked~div.sk-toggleable__content {max-height: 200px;max-width: 100%;overflow: auto;}#sk-container-id-7 input.sk-toggleable__control:checked~label.sk-toggleable__label-arrow:before {content: \"▾\";}#sk-container-id-7 div.sk-estimator input.sk-toggleable__control:checked~label.sk-toggleable__label {background-color: #d4ebff;}#sk-container-id-7 div.sk-label input.sk-toggleable__control:checked~label.sk-toggleable__label {background-color: #d4ebff;}#sk-container-id-7 input.sk-hidden--visually {border: 0;clip: rect(1px 1px 1px 1px);clip: rect(1px, 1px, 1px, 1px);height: 1px;margin: -1px;overflow: hidden;padding: 0;position: absolute;width: 1px;}#sk-container-id-7 div.sk-estimator {font-family: monospace;background-color: #f0f8ff;border: 1px dotted black;border-radius: 0.25em;box-sizing: border-box;margin-bottom: 0.5em;}#sk-container-id-7 div.sk-estimator:hover {background-color: #d4ebff;}#sk-container-id-7 div.sk-parallel-item::after {content: \"\";width: 100%;border-bottom: 1px solid gray;flex-grow: 1;}#sk-container-id-7 div.sk-label:hover label.sk-toggleable__label {background-color: #d4ebff;}#sk-container-id-7 div.sk-serial::before {content: \"\";position: absolute;border-left: 1px solid gray;box-sizing: border-box;top: 0;bottom: 0;left: 50%;z-index: 0;}#sk-container-id-7 div.sk-serial {display: flex;flex-direction: column;align-items: center;background-color: white;padding-right: 0.2em;padding-left: 0.2em;position: relative;}#sk-container-id-7 div.sk-item {position: relative;z-index: 1;}#sk-container-id-7 div.sk-parallel {display: flex;align-items: stretch;justify-content: center;background-color: white;position: relative;}#sk-container-id-7 div.sk-item::before, #sk-container-id-7 div.sk-parallel-item::before {content: \"\";position: absolute;border-left: 1px solid gray;box-sizing: border-box;top: 0;bottom: 0;left: 50%;z-index: -1;}#sk-container-id-7 div.sk-parallel-item {display: flex;flex-direction: column;z-index: 1;position: relative;background-color: white;}#sk-container-id-7 div.sk-parallel-item:first-child::after {align-self: flex-end;width: 50%;}#sk-container-id-7 div.sk-parallel-item:last-child::after {align-self: flex-start;width: 50%;}#sk-container-id-7 div.sk-parallel-item:only-child::after {width: 0;}#sk-container-id-7 div.sk-dashed-wrapped {border: 1px dashed gray;margin: 0 0.4em 0.5em 0.4em;box-sizing: border-box;padding-bottom: 0.4em;background-color: white;}#sk-container-id-7 div.sk-label label {font-family: monospace;font-weight: bold;display: inline-block;line-height: 1.2em;}#sk-container-id-7 div.sk-label-container {text-align: center;}#sk-container-id-7 div.sk-container {/* jupyter's `normalize.less` sets `[hidden] { display: none; }` but bootstrap.min.css set `[hidden] { display: none !important; }` so we also need the `!important` here to be able to override the default hidden behavior on the sphinx rendered scikit-learn.org. See: https://github.com/scikit-learn/scikit-learn/issues/21755 */display: inline-block !important;position: relative;}#sk-container-id-7 div.sk-text-repr-fallback {display: none;}</style><div id=\"sk-container-id-7\" class=\"sk-top-container\"><div class=\"sk-text-repr-fallback\"><pre>ExtraTreesClassifier()</pre><b>In a Jupyter environment, please rerun this cell to show the HTML representation or trust the notebook. <br />On GitHub, the HTML representation is unable to render, please try loading this page with nbviewer.org.</b></div><div class=\"sk-container\" hidden><div class=\"sk-item\"><div class=\"sk-estimator sk-toggleable\"><input class=\"sk-toggleable__control sk-hidden--visually\" id=\"sk-estimator-id-7\" type=\"checkbox\" checked><label for=\"sk-estimator-id-7\" class=\"sk-toggleable__label sk-toggleable__label-arrow\">ExtraTreesClassifier</label><div class=\"sk-toggleable__content\"><pre>ExtraTreesClassifier()</pre></div></div></div></div></div>"
      ],
      "text/plain": [
       "ExtraTreesClassifier()"
      ]
     },
     "execution_count": 99,
     "metadata": {},
     "output_type": "execute_result"
    },
    {
     "data": {
      "text/html": [
       "<div>\n",
       "<style scoped>\n",
       "    .dataframe tbody tr th:only-of-type {\n",
       "        vertical-align: middle;\n",
       "    }\n",
       "\n",
       "    .dataframe tbody tr th {\n",
       "        vertical-align: top;\n",
       "    }\n",
       "\n",
       "    .dataframe thead th {\n",
       "        text-align: right;\n",
       "    }\n",
       "</style>\n",
       "<table border=\"1\" class=\"dataframe\">\n",
       "  <thead>\n",
       "    <tr style=\"text-align: right;\">\n",
       "      <th></th>\n",
       "      <th>Accuracy</th>\n",
       "      <th>F1-score class</th>\n",
       "      <th>F1-score (macro avg)</th>\n",
       "      <th>F1-score (weighted avg)</th>\n",
       "      <th>Balanced Accuracy</th>\n",
       "    </tr>\n",
       "  </thead>\n",
       "  <tbody>\n",
       "    <tr>\n",
       "      <th>RF-best</th>\n",
       "      <td>0.696</td>\n",
       "      <td>[0.7875185735512631, 0.18518518518518517, 0.55...</td>\n",
       "      <td>0.508</td>\n",
       "      <td>0.69</td>\n",
       "      <td>0.5</td>\n",
       "    </tr>\n",
       "    <tr>\n",
       "      <th>extra_trees-best</th>\n",
       "      <td>0.701</td>\n",
       "      <td>[0.7951807228915663, 0.18947368421052632, 0.52...</td>\n",
       "      <td>0.505</td>\n",
       "      <td>0.689</td>\n",
       "      <td>0.49</td>\n",
       "    </tr>\n",
       "    <tr>\n",
       "      <th>extra_trees</th>\n",
       "      <td>0.718</td>\n",
       "      <td>[0.8123559243891194, 0.15999999999999998, 0.51...</td>\n",
       "      <td>0.494</td>\n",
       "      <td>0.693</td>\n",
       "      <td>0.473</td>\n",
       "    </tr>\n",
       "    <tr>\n",
       "      <th>RF-default</th>\n",
       "      <td>0.738</td>\n",
       "      <td>[0.8292902066486972, 0.08955223880597016, 0.51...</td>\n",
       "      <td>0.48</td>\n",
       "      <td>0.704</td>\n",
       "      <td>0.465</td>\n",
       "    </tr>\n",
       "    <tr>\n",
       "      <th>RF-balance</th>\n",
       "      <td>0.732</td>\n",
       "      <td>[0.8255243195002231, 0.08955223880597016, 0.5]</td>\n",
       "      <td>0.472</td>\n",
       "      <td>0.696</td>\n",
       "      <td>0.458</td>\n",
       "    </tr>\n",
       "    <tr>\n",
       "      <th>DT-default</th>\n",
       "      <td>0.616</td>\n",
       "      <td>[0.7195822454308094, 0.11678832116788321, 0.48...</td>\n",
       "      <td>0.439</td>\n",
       "      <td>0.622</td>\n",
       "      <td>0.444</td>\n",
       "    </tr>\n",
       "    <tr>\n",
       "      <th>DT-best-MacroF1</th>\n",
       "      <td>0.676</td>\n",
       "      <td>[0.7889087656529516, 0.07407407407407407, 0.39...</td>\n",
       "      <td>0.418</td>\n",
       "      <td>0.638</td>\n",
       "      <td>0.414</td>\n",
       "    </tr>\n",
       "  </tbody>\n",
       "</table>\n",
       "</div>"
      ],
      "text/plain": [
       "                 Accuracy                                     F1-score class  \\\n",
       "RF-best             0.696  [0.7875185735512631, 0.18518518518518517, 0.55...   \n",
       "extra_trees-best    0.701  [0.7951807228915663, 0.18947368421052632, 0.52...   \n",
       "extra_trees         0.718  [0.8123559243891194, 0.15999999999999998, 0.51...   \n",
       "RF-default          0.738  [0.8292902066486972, 0.08955223880597016, 0.51...   \n",
       "RF-balance          0.732     [0.8255243195002231, 0.08955223880597016, 0.5]   \n",
       "DT-default          0.616  [0.7195822454308094, 0.11678832116788321, 0.48...   \n",
       "DT-best-MacroF1     0.676  [0.7889087656529516, 0.07407407407407407, 0.39...   \n",
       "\n",
       "                 F1-score (macro avg) F1-score (weighted avg)  \\\n",
       "RF-best                         0.508                    0.69   \n",
       "extra_trees-best                0.505                   0.689   \n",
       "extra_trees                     0.494                   0.693   \n",
       "RF-default                       0.48                   0.704   \n",
       "RF-balance                      0.472                   0.696   \n",
       "DT-default                      0.439                   0.622   \n",
       "DT-best-MacroF1                 0.418                   0.638   \n",
       "\n",
       "                 Balanced Accuracy  \n",
       "RF-best                        0.5  \n",
       "extra_trees-best              0.49  \n",
       "extra_trees                  0.473  \n",
       "RF-default                   0.465  \n",
       "RF-balance                   0.458  \n",
       "DT-default                   0.444  \n",
       "DT-best-MacroF1              0.414  "
      ]
     },
     "execution_count": 99,
     "metadata": {},
     "output_type": "execute_result"
    }
   ],
   "source": [
    "extra_trees = ExtraTreesClassifier()\n",
    "extra_trees.fit(X_train,y_train)\n",
    "\n",
    "y_pred = extra_trees.predict(X_test)\n",
    "\n",
    "results.loc['extra_trees',:] = compute_metrics(y_test,y_pred)\n",
    "\n",
    "results.sort_values(by='F1-score (macro avg)', ascending=False)"
   ]
  },
  {
   "cell_type": "code",
   "execution_count": 104,
   "metadata": {},
   "outputs": [
    {
     "name": "stdout",
     "output_type": "stream",
     "text": [
      "Fitting 5 folds for each of 324 candidates, totalling 1620 fits\n",
      "0:09:42.551396\n"
     ]
    }
   ],
   "source": [
    "init_time = time()\n",
    "\n",
    "rf_model = ExtraTreesClassifier(class_weight='balanced')\n",
    "\n",
    "n_estimators = [200,400,600]\n",
    "# Number of features to consider at every split\n",
    "max_features = ['auto', 'sqrt']\n",
    "# Maximum number of levels in tree\n",
    "max_depth = [20,40]\n",
    "max_depth.append(None)\n",
    "# Minimum number of samples required to split a node\n",
    "min_samples_split = [2, 5, 10]\n",
    "# Minimum number of samples required at each leaf node\n",
    "min_samples_leaf = [1, 2, 4]\n",
    "# Method of selecting samples for training each tree\n",
    "bootstrap = [True, False]\n",
    "balance = [None, 'balanced', 'balanced_subsample']\n",
    "\n",
    "cv = RepeatedStratifiedKFold(n_splits=5, n_repeats=3, random_state=1)\n",
    "\n",
    "\n",
    "trc = GridSearchCV(estimator=best_rf_tuned,\n",
    "                   scoring=scoring_dict,\n",
    "                   param_grid={\n",
    "                       'n_estimators': ntrees,\n",
    "                       'max_depth': max_depth,\n",
    "                       'min_samples_split': min_samples_split,\n",
    "                       'min_samples_leaf': min_samples_leaf,\n",
    "                       'class_weight': balance,\n",
    "                       'bootstrap': bootstrap\n",
    "                   },\n",
    "                   cv=cv,\n",
    "                   return_train_score=True,\n",
    "                   refit=False,\n",
    "                   n_jobs=-1, verbose=3)\n",
    "\n",
    "model_5CV = trc.fit(X_train, y_train)\n",
    "print(timedelta(seconds=(time() - init_time)))"
   ]
  },
  {
   "cell_type": "code",
   "execution_count": 105,
   "metadata": {},
   "outputs": [],
   "source": [
    "scoring_cols = [\n",
    "    'param_n_estimators', 'param_max_depth', 'param_min_samples_leaf', 'param_min_samples_split', 'param_class_weight', \n",
    "     'mean_test_f1_mac', 'param_bootstrap'] "
   ]
  },
  {
   "cell_type": "code",
   "execution_count": 106,
   "metadata": {},
   "outputs": [
    {
     "data": {
      "text/html": [
       "<div>\n",
       "<style scoped>\n",
       "    .dataframe tbody tr th:only-of-type {\n",
       "        vertical-align: middle;\n",
       "    }\n",
       "\n",
       "    .dataframe tbody tr th {\n",
       "        vertical-align: top;\n",
       "    }\n",
       "\n",
       "    .dataframe thead th {\n",
       "        text-align: right;\n",
       "    }\n",
       "</style>\n",
       "<table border=\"1\" class=\"dataframe\">\n",
       "  <thead>\n",
       "    <tr style=\"text-align: right;\">\n",
       "      <th></th>\n",
       "      <th>param_n_estimators</th>\n",
       "      <th>param_max_depth</th>\n",
       "      <th>param_min_samples_leaf</th>\n",
       "      <th>param_min_samples_split</th>\n",
       "      <th>param_class_weight</th>\n",
       "      <th>mean_test_f1_mac</th>\n",
       "      <th>param_bootstrap</th>\n",
       "    </tr>\n",
       "  </thead>\n",
       "  <tbody>\n",
       "    <tr>\n",
       "      <th>298</th>\n",
       "      <td>150</td>\n",
       "      <td>40</td>\n",
       "      <td>2</td>\n",
       "      <td>10</td>\n",
       "      <td>balanced_subsample</td>\n",
       "      <td>0.530</td>\n",
       "      <td>False</td>\n",
       "    </tr>\n",
       "    <tr>\n",
       "      <th>120</th>\n",
       "      <td>150</td>\n",
       "      <td>20</td>\n",
       "      <td>4</td>\n",
       "      <td>2</td>\n",
       "      <td>balanced_subsample</td>\n",
       "      <td>0.528</td>\n",
       "      <td>True</td>\n",
       "    </tr>\n",
       "    <tr>\n",
       "      <th>304</th>\n",
       "      <td>150</td>\n",
       "      <td>40</td>\n",
       "      <td>4</td>\n",
       "      <td>10</td>\n",
       "      <td>balanced_subsample</td>\n",
       "      <td>0.527</td>\n",
       "      <td>False</td>\n",
       "    </tr>\n",
       "    <tr>\n",
       "      <th>256</th>\n",
       "      <td>150</td>\n",
       "      <td>None</td>\n",
       "      <td>1</td>\n",
       "      <td>10</td>\n",
       "      <td>balanced</td>\n",
       "      <td>0.527</td>\n",
       "      <td>False</td>\n",
       "    </tr>\n",
       "    <tr>\n",
       "      <th>106</th>\n",
       "      <td>150</td>\n",
       "      <td>None</td>\n",
       "      <td>4</td>\n",
       "      <td>10</td>\n",
       "      <td>balanced</td>\n",
       "      <td>0.526</td>\n",
       "      <td>True</td>\n",
       "    </tr>\n",
       "  </tbody>\n",
       "</table>\n",
       "</div>"
      ],
      "text/plain": [
       "    param_n_estimators param_max_depth param_min_samples_leaf  \\\n",
       "298                150              40                      2   \n",
       "120                150              20                      4   \n",
       "304                150              40                      4   \n",
       "256                150            None                      1   \n",
       "106                150            None                      4   \n",
       "\n",
       "    param_min_samples_split  param_class_weight  mean_test_f1_mac  \\\n",
       "298                      10  balanced_subsample             0.530   \n",
       "120                       2  balanced_subsample             0.528   \n",
       "304                      10  balanced_subsample             0.527   \n",
       "256                      10            balanced             0.527   \n",
       "106                      10            balanced             0.526   \n",
       "\n",
       "    param_bootstrap  \n",
       "298           False  \n",
       "120            True  \n",
       "304           False  \n",
       "256           False  \n",
       "106            True  "
      ]
     },
     "execution_count": 106,
     "metadata": {},
     "output_type": "execute_result"
    }
   ],
   "source": [
    "pd.DataFrame(model_5CV.cv_results_).sort_values(by='mean_test_f1_mac',ascending=False)[scoring_cols].head()"
   ]
  },
  {
   "cell_type": "code",
   "execution_count": 107,
   "metadata": {},
   "outputs": [
    {
     "data": {
      "text/plain": [
       "{'bootstrap': False,\n",
       " 'class_weight': 'balanced_subsample',\n",
       " 'max_depth': 40,\n",
       " 'min_samples_leaf': 2,\n",
       " 'min_samples_split': 10,\n",
       " 'n_estimators': 150}"
      ]
     },
     "execution_count": 107,
     "metadata": {},
     "output_type": "execute_result"
    }
   ],
   "source": [
    "best_params = pd.DataFrame(model_5CV.cv_results_).sort_values(by='mean_test_f1_mac',ascending=False)[['params']].iloc[0,0]\n",
    "best_params"
   ]
  },
  {
   "cell_type": "code",
   "execution_count": 108,
   "metadata": {},
   "outputs": [
    {
     "data": {
      "text/html": [
       "<style>#sk-container-id-8 {color: black;background-color: white;}#sk-container-id-8 pre{padding: 0;}#sk-container-id-8 div.sk-toggleable {background-color: white;}#sk-container-id-8 label.sk-toggleable__label {cursor: pointer;display: block;width: 100%;margin-bottom: 0;padding: 0.3em;box-sizing: border-box;text-align: center;}#sk-container-id-8 label.sk-toggleable__label-arrow:before {content: \"▸\";float: left;margin-right: 0.25em;color: #696969;}#sk-container-id-8 label.sk-toggleable__label-arrow:hover:before {color: black;}#sk-container-id-8 div.sk-estimator:hover label.sk-toggleable__label-arrow:before {color: black;}#sk-container-id-8 div.sk-toggleable__content {max-height: 0;max-width: 0;overflow: hidden;text-align: left;background-color: #f0f8ff;}#sk-container-id-8 div.sk-toggleable__content pre {margin: 0.2em;color: black;border-radius: 0.25em;background-color: #f0f8ff;}#sk-container-id-8 input.sk-toggleable__control:checked~div.sk-toggleable__content {max-height: 200px;max-width: 100%;overflow: auto;}#sk-container-id-8 input.sk-toggleable__control:checked~label.sk-toggleable__label-arrow:before {content: \"▾\";}#sk-container-id-8 div.sk-estimator input.sk-toggleable__control:checked~label.sk-toggleable__label {background-color: #d4ebff;}#sk-container-id-8 div.sk-label input.sk-toggleable__control:checked~label.sk-toggleable__label {background-color: #d4ebff;}#sk-container-id-8 input.sk-hidden--visually {border: 0;clip: rect(1px 1px 1px 1px);clip: rect(1px, 1px, 1px, 1px);height: 1px;margin: -1px;overflow: hidden;padding: 0;position: absolute;width: 1px;}#sk-container-id-8 div.sk-estimator {font-family: monospace;background-color: #f0f8ff;border: 1px dotted black;border-radius: 0.25em;box-sizing: border-box;margin-bottom: 0.5em;}#sk-container-id-8 div.sk-estimator:hover {background-color: #d4ebff;}#sk-container-id-8 div.sk-parallel-item::after {content: \"\";width: 100%;border-bottom: 1px solid gray;flex-grow: 1;}#sk-container-id-8 div.sk-label:hover label.sk-toggleable__label {background-color: #d4ebff;}#sk-container-id-8 div.sk-serial::before {content: \"\";position: absolute;border-left: 1px solid gray;box-sizing: border-box;top: 0;bottom: 0;left: 50%;z-index: 0;}#sk-container-id-8 div.sk-serial {display: flex;flex-direction: column;align-items: center;background-color: white;padding-right: 0.2em;padding-left: 0.2em;position: relative;}#sk-container-id-8 div.sk-item {position: relative;z-index: 1;}#sk-container-id-8 div.sk-parallel {display: flex;align-items: stretch;justify-content: center;background-color: white;position: relative;}#sk-container-id-8 div.sk-item::before, #sk-container-id-8 div.sk-parallel-item::before {content: \"\";position: absolute;border-left: 1px solid gray;box-sizing: border-box;top: 0;bottom: 0;left: 50%;z-index: -1;}#sk-container-id-8 div.sk-parallel-item {display: flex;flex-direction: column;z-index: 1;position: relative;background-color: white;}#sk-container-id-8 div.sk-parallel-item:first-child::after {align-self: flex-end;width: 50%;}#sk-container-id-8 div.sk-parallel-item:last-child::after {align-self: flex-start;width: 50%;}#sk-container-id-8 div.sk-parallel-item:only-child::after {width: 0;}#sk-container-id-8 div.sk-dashed-wrapped {border: 1px dashed gray;margin: 0 0.4em 0.5em 0.4em;box-sizing: border-box;padding-bottom: 0.4em;background-color: white;}#sk-container-id-8 div.sk-label label {font-family: monospace;font-weight: bold;display: inline-block;line-height: 1.2em;}#sk-container-id-8 div.sk-label-container {text-align: center;}#sk-container-id-8 div.sk-container {/* jupyter's `normalize.less` sets `[hidden] { display: none; }` but bootstrap.min.css set `[hidden] { display: none !important; }` so we also need the `!important` here to be able to override the default hidden behavior on the sphinx rendered scikit-learn.org. See: https://github.com/scikit-learn/scikit-learn/issues/21755 */display: inline-block !important;position: relative;}#sk-container-id-8 div.sk-text-repr-fallback {display: none;}</style><div id=\"sk-container-id-8\" class=\"sk-top-container\"><div class=\"sk-text-repr-fallback\"><pre>ExtraTreesClassifier(class_weight=&#x27;balanced_subsample&#x27;, max_depth=40,\n",
       "                     min_samples_leaf=2, min_samples_split=10,\n",
       "                     n_estimators=150)</pre><b>In a Jupyter environment, please rerun this cell to show the HTML representation or trust the notebook. <br />On GitHub, the HTML representation is unable to render, please try loading this page with nbviewer.org.</b></div><div class=\"sk-container\" hidden><div class=\"sk-item\"><div class=\"sk-estimator sk-toggleable\"><input class=\"sk-toggleable__control sk-hidden--visually\" id=\"sk-estimator-id-8\" type=\"checkbox\" checked><label for=\"sk-estimator-id-8\" class=\"sk-toggleable__label sk-toggleable__label-arrow\">ExtraTreesClassifier</label><div class=\"sk-toggleable__content\"><pre>ExtraTreesClassifier(class_weight=&#x27;balanced_subsample&#x27;, max_depth=40,\n",
       "                     min_samples_leaf=2, min_samples_split=10,\n",
       "                     n_estimators=150)</pre></div></div></div></div></div>"
      ],
      "text/plain": [
       "ExtraTreesClassifier(class_weight='balanced_subsample', max_depth=40,\n",
       "                     min_samples_leaf=2, min_samples_split=10,\n",
       "                     n_estimators=150)"
      ]
     },
     "execution_count": 108,
     "metadata": {},
     "output_type": "execute_result"
    },
    {
     "data": {
      "text/html": [
       "<div>\n",
       "<style scoped>\n",
       "    .dataframe tbody tr th:only-of-type {\n",
       "        vertical-align: middle;\n",
       "    }\n",
       "\n",
       "    .dataframe tbody tr th {\n",
       "        vertical-align: top;\n",
       "    }\n",
       "\n",
       "    .dataframe thead th {\n",
       "        text-align: right;\n",
       "    }\n",
       "</style>\n",
       "<table border=\"1\" class=\"dataframe\">\n",
       "  <thead>\n",
       "    <tr style=\"text-align: right;\">\n",
       "      <th></th>\n",
       "      <th>Accuracy</th>\n",
       "      <th>F1-score class</th>\n",
       "      <th>F1-score (macro avg)</th>\n",
       "      <th>F1-score (weighted avg)</th>\n",
       "      <th>Balanced Accuracy</th>\n",
       "    </tr>\n",
       "  </thead>\n",
       "  <tbody>\n",
       "    <tr>\n",
       "      <th>RF-best</th>\n",
       "      <td>0.696</td>\n",
       "      <td>[0.7875185735512631, 0.18518518518518517, 0.55...</td>\n",
       "      <td>0.508</td>\n",
       "      <td>0.69</td>\n",
       "      <td>0.5</td>\n",
       "    </tr>\n",
       "    <tr>\n",
       "      <th>extra_trees-best</th>\n",
       "      <td>0.672</td>\n",
       "      <td>[0.7709384460141271, 0.1904761904761905, 0.533...</td>\n",
       "      <td>0.498</td>\n",
       "      <td>0.675</td>\n",
       "      <td>0.505</td>\n",
       "    </tr>\n",
       "    <tr>\n",
       "      <th>extra_trees</th>\n",
       "      <td>0.718</td>\n",
       "      <td>[0.8123559243891194, 0.15999999999999998, 0.51...</td>\n",
       "      <td>0.494</td>\n",
       "      <td>0.693</td>\n",
       "      <td>0.473</td>\n",
       "    </tr>\n",
       "    <tr>\n",
       "      <th>RF-default</th>\n",
       "      <td>0.738</td>\n",
       "      <td>[0.8292902066486972, 0.08955223880597016, 0.51...</td>\n",
       "      <td>0.48</td>\n",
       "      <td>0.704</td>\n",
       "      <td>0.465</td>\n",
       "    </tr>\n",
       "    <tr>\n",
       "      <th>RF-balance</th>\n",
       "      <td>0.732</td>\n",
       "      <td>[0.8255243195002231, 0.08955223880597016, 0.5]</td>\n",
       "      <td>0.472</td>\n",
       "      <td>0.696</td>\n",
       "      <td>0.458</td>\n",
       "    </tr>\n",
       "    <tr>\n",
       "      <th>DT-default</th>\n",
       "      <td>0.616</td>\n",
       "      <td>[0.7195822454308094, 0.11678832116788321, 0.48...</td>\n",
       "      <td>0.439</td>\n",
       "      <td>0.622</td>\n",
       "      <td>0.444</td>\n",
       "    </tr>\n",
       "    <tr>\n",
       "      <th>DT-best-MacroF1</th>\n",
       "      <td>0.676</td>\n",
       "      <td>[0.7889087656529516, 0.07407407407407407, 0.39...</td>\n",
       "      <td>0.418</td>\n",
       "      <td>0.638</td>\n",
       "      <td>0.414</td>\n",
       "    </tr>\n",
       "  </tbody>\n",
       "</table>\n",
       "</div>"
      ],
      "text/plain": [
       "                 Accuracy                                     F1-score class  \\\n",
       "RF-best             0.696  [0.7875185735512631, 0.18518518518518517, 0.55...   \n",
       "extra_trees-best    0.672  [0.7709384460141271, 0.1904761904761905, 0.533...   \n",
       "extra_trees         0.718  [0.8123559243891194, 0.15999999999999998, 0.51...   \n",
       "RF-default          0.738  [0.8292902066486972, 0.08955223880597016, 0.51...   \n",
       "RF-balance          0.732     [0.8255243195002231, 0.08955223880597016, 0.5]   \n",
       "DT-default          0.616  [0.7195822454308094, 0.11678832116788321, 0.48...   \n",
       "DT-best-MacroF1     0.676  [0.7889087656529516, 0.07407407407407407, 0.39...   \n",
       "\n",
       "                 F1-score (macro avg) F1-score (weighted avg)  \\\n",
       "RF-best                         0.508                    0.69   \n",
       "extra_trees-best                0.498                   0.675   \n",
       "extra_trees                     0.494                   0.693   \n",
       "RF-default                       0.48                   0.704   \n",
       "RF-balance                      0.472                   0.696   \n",
       "DT-default                      0.439                   0.622   \n",
       "DT-best-MacroF1                 0.418                   0.638   \n",
       "\n",
       "                 Balanced Accuracy  \n",
       "RF-best                        0.5  \n",
       "extra_trees-best             0.505  \n",
       "extra_trees                  0.473  \n",
       "RF-default                   0.465  \n",
       "RF-balance                   0.458  \n",
       "DT-default                   0.444  \n",
       "DT-best-MacroF1              0.414  "
      ]
     },
     "execution_count": 108,
     "metadata": {},
     "output_type": "execute_result"
    }
   ],
   "source": [
    "extra_trees_best = ExtraTreesClassifier(**best_params)\n",
    "extra_trees_best.fit(X_train,y_train)\n",
    "\n",
    "y_pred = extra_trees_best.predict(X_test)\n",
    "\n",
    "results.loc['extra_trees-best',:] = compute_metrics(y_test,y_pred)\n",
    "\n",
    "results.sort_values(by='F1-score (macro avg)', ascending=False)"
   ]
  },
  {
   "cell_type": "markdown",
   "metadata": {},
   "source": [
    "4) Feature Importance"
   ]
  },
  {
   "cell_type": "code",
   "execution_count": 102,
   "metadata": {},
   "outputs": [
    {
     "data": {
      "image/png": "[encoded data removed]",
      "text/plain": [
       "<Figure size 864x864 with 1 Axes>"
      ]
     },
     "metadata": {},
     "output_type": "display_data"
    }
   ],
   "source": [
    "var_imp = pd.DataFrame({'importance': best_rf_tuned.feature_importances_},\n",
    "                       index=X_train.columns)\n",
    "\n",
    "var_imp.sort_values(by='importance').plot.barh(figsize=(12,12),\n",
    "                                               legend=False);"
   ]
  },
  {
   "cell_type": "code",
   "execution_count": 100,
   "metadata": {},
   "outputs": [
    {
     "data": {
      "text/html": [
       "<div>\n",
       "<style scoped>\n",
       "    .dataframe tbody tr th:only-of-type {\n",
       "        vertical-align: middle;\n",
       "    }\n",
       "\n",
       "    .dataframe tbody tr th {\n",
       "        vertical-align: top;\n",
       "    }\n",
       "\n",
       "    .dataframe thead th {\n",
       "        text-align: right;\n",
       "    }\n",
       "</style>\n",
       "<table border=\"1\" class=\"dataframe\">\n",
       "  <thead>\n",
       "    <tr style=\"text-align: right;\">\n",
       "      <th>predicted</th>\n",
       "      <th>BLACK</th>\n",
       "      <th>OTHER</th>\n",
       "      <th>WHITE</th>\n",
       "    </tr>\n",
       "    <tr>\n",
       "      <th>target</th>\n",
       "      <th></th>\n",
       "      <th></th>\n",
       "      <th></th>\n",
       "    </tr>\n",
       "  </thead>\n",
       "  <tbody>\n",
       "    <tr>\n",
       "      <th>BLACK</th>\n",
       "      <td>795</td>\n",
       "      <td>26</td>\n",
       "      <td>167</td>\n",
       "    </tr>\n",
       "    <tr>\n",
       "      <th>OTHER</th>\n",
       "      <td>30</td>\n",
       "      <td>10</td>\n",
       "      <td>22</td>\n",
       "    </tr>\n",
       "    <tr>\n",
       "      <th>WHITE</th>\n",
       "      <td>206</td>\n",
       "      <td>10</td>\n",
       "      <td>248</td>\n",
       "    </tr>\n",
       "  </tbody>\n",
       "</table>\n",
       "</div>"
      ],
      "text/plain": [
       "predicted  BLACK  OTHER  WHITE\n",
       "target                        \n",
       "BLACK        795     26    167\n",
       "OTHER         30     10     22\n",
       "WHITE        206     10    248"
      ]
     },
     "execution_count": 100,
     "metadata": {},
     "output_type": "execute_result"
    }
   ],
   "source": [
    "# SAVING BEST MODEL\n",
    "import _pickle as cPickle\n",
    "\n",
    "\n",
    "with open(os.path.join(model_path,'final_rd.model'), 'wb') as f:\n",
    "    cPickle.dump(best_rf_tuned, f)\n",
    "\n",
    "with open(os.path.join(model_path,'final_rd.model'), 'rb') as f:\n",
    "    rf = cPickle.load(f)\n",
    "\n",
    "y_pred = rf.predict(X_test)\n",
    "confusion(y_test, y_pred)"
   ]
  }
 ],
 "metadata": {
  "interpreter": {
   "hash": "6bcd08b9d07a1bbf1ca3d2e85cf520478653b674492b433d59be3f14d722c959"
  },
  "kernelspec": {
   "display_name": "Python 3.9.7 ('base')",
   "language": "python",
   "name": "python3"
  },
  "language_info": {
   "codemirror_mode": {
    "name": "ipython",
    "version": 3
   },
   "file_extension": ".py",
   "mimetype": "text/x-python",
   "name": "python",
   "nbconvert_exporter": "python",
   "pygments_lexer": "ipython3",
   "version": "3.9.7"
  },
  "orig_nbformat": 4
 },
 "nbformat": 4,
 "nbformat_minor": 2
}
